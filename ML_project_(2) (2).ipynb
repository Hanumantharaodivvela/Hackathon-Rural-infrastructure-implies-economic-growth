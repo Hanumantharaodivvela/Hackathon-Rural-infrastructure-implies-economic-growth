{
  "nbformat": 4,
  "nbformat_minor": 0,
  "metadata": {
    "colab": {
      "provenance": []
    },
    "kernelspec": {
      "name": "python3",
      "display_name": "Python 3"
    },
    "language_info": {
      "name": "python"
    }
  },
  "cells": [
    {
      "cell_type": "code",
      "execution_count": null,
      "metadata": {
        "id": "OAZaePp7acAq"
      },
      "outputs": [],
      "source": [
        "import pandas as pd\n",
        "import numpy as np\n",
        "from scipy.spatial import distance\n",
        "import matplotlib.pyplot as plt\n",
        "from sklearn import datasets, linear_model, metrics\n",
        "from sklearn.linear_model import LinearRegression\n",
        "from sklearn import metrics"
      ]
    },
    {
      "cell_type": "code",
      "source": [
        "dataframe = pd.read_csv('/content/ML.csv',nrows=100)\n",
        "print(dataframe)"
      ],
      "metadata": {
        "colab": {
          "base_uri": "https://localhost:8080/"
        },
        "id": "8FJkNMZMajSC",
        "outputId": "19cfe96a-728a-414d-a261-09b5f129acd3"
      },
      "execution_count": null,
      "outputs": [
        {
          "output_type": "stream",
          "name": "stdout",
          "text": [
            "           State Name  No. OfVillagesWhere SurveyCompleted  banks   ATM  \\\n",
            "0      ANDHRA PRADESH                                20040   3078  2220   \n",
            "1   ARUNACHAL PRADESH                                 4623     96    57   \n",
            "2               ASSAM                                26372   1867  1073   \n",
            "3               BIHAR                                45265   7523  3619   \n",
            "4        CHHATTISGARH                                19898   1373   664   \n",
            "5                 GOA                                  403    176   158   \n",
            "6             GUJARAT                                18391   5786  4899   \n",
            "7             HARYANA                                 7500   1814   884   \n",
            "8    HIMACHAL PRADESH                                19602   1401  1022   \n",
            "9   JAMMU AND KASHMIR                                 7646    997   794   \n",
            "10          JHARKHAND                                31212   2561  1288   \n",
            "11          KARNATAKA                                32132   4153  2629   \n",
            "12             KERALA                                 1596   1447  1322   \n",
            "13     MADHYA PRADESH                                52688   3847  1625   \n",
            "14         MAHARASTRA                                43735   5341  3475   \n",
            "15            MANIPUR                                 3368    115   108   \n",
            "16          MEGHALAYA                                 6156    274   161   \n",
            "17            MIZORAM                                  838     98    48   \n",
            "18           NAGALAND                                 1234     35    32   \n",
            "19             ODISHA                                49272   4008  2772   \n",
            "20             PUNJAB                                14685   2600  1952   \n",
            "21          RAJASTHAN                                45692   3883  2861   \n",
            "22             SIKKIM                                  456     73    52   \n",
            "23          TAMILNADU                                17733   4450  3535   \n",
            "24          TELANGANA                                15787   1889  1183   \n",
            "25            TRIPURA                                 1656    315   145   \n",
            "26      UTTAR PRADESH                               104031   8817  4570   \n",
            "27         UTTARAKAND                                15848    850   512   \n",
            "28        WEST BENGAL                                39719   5477  3420   \n",
            "\n",
            "    Public Transport  electricity for domestic use (in Hrs)   \\\n",
            "0              17594                                   19439   \n",
            "1               1249                                    3473   \n",
            "2              16867                                   23765   \n",
            "3              34505                                   42536   \n",
            "4              10768                                   18479   \n",
            "5                371                                     391   \n",
            "6              18104                                   18331   \n",
            "7               6052                                    7424   \n",
            "8              14805                                   18278   \n",
            "9               6073                                    7461   \n",
            "10             15391                                   28977   \n",
            "11             27458                                   30476   \n",
            "12              1593                                    1596   \n",
            "13             33792                                   51269   \n",
            "14             35737                                   41181   \n",
            "15              1953                                    2778   \n",
            "16              3408                                    5363   \n",
            "17               471                                     767   \n",
            "18               545                                    1172   \n",
            "19             35103                                   45760   \n",
            "20             12007                                   14477   \n",
            "21             28563                                   44609   \n",
            "22               388                                     425   \n",
            "23             15530                                   17227   \n",
            "24             14274                                   15262   \n",
            "25              1485                                    1622   \n",
            "26             51728                                  100161   \n",
            "27             10124                                   15356   \n",
            "28             29757                                   38439   \n",
            "\n",
            "    Public Distribution System(PDS)  markets  Middle School  \\\n",
            "0                             15267     3971           6438   \n",
            "1                              1952      431            780   \n",
            "2                             12452     8828           7363   \n",
            "3                             23271    18368          20734   \n",
            "4                             11760     6836          10831   \n",
            "5                               236       78            170   \n",
            "6                             15324    13156           9649   \n",
            "7                              4792     1097           4712   \n",
            "8                              7294     2255           4035   \n",
            "9                              4816     2189           5074   \n",
            "10                            10968     8670           9822   \n",
            "11                            11436     5147          14259   \n",
            "12                             1558     1339           1442   \n",
            "13                            19659     8312          26344   \n",
            "14                            22625     8806          15782   \n",
            "15                             1842      506            483   \n",
            "16                             2596     2047           2388   \n",
            "17                              634      259            707   \n",
            "18                              684      190            552   \n",
            "19                            21769    10665          16795   \n",
            "20                             6230     3246           5504   \n",
            "21                            14694     5981          19811   \n",
            "22                              296       88            186   \n",
            "23                            15199     3504           8093   \n",
            "24                            11546     1931           5126   \n",
            "25                             1201      997           1047   \n",
            "26                            65304    22458          41911   \n",
            "27                             6547     1953           4120   \n",
            "28                            14486    12323           9468   \n",
            "\n",
            "    Aanganwadi Centre     NSDP  \n",
            "0               17856   558862  \n",
            "1                3008    14897  \n",
            "2               21485   204627  \n",
            "3               35768   345545  \n",
            "4               18730   209211  \n",
            "5                 331    47425  \n",
            "6               17948  1034399  \n",
            "7                7127   470328  \n",
            "8               12451    99218  \n",
            "9                7072    93072  \n",
            "10              22043   208701  \n",
            "11              27120   974815  \n",
            "12               1576   510787  \n",
            "13              46128   482361  \n",
            "14              39424  1728578  \n",
            "15               2587    16193  \n",
            "16               3819    20968  \n",
            "17                805    14116  \n",
            "18               1138    15055  \n",
            "19              39507   338339  \n",
            "20              12638   353942  \n",
            "21              36177   568102  \n",
            "22                414    15889  \n",
            "23              15984  1071602  \n",
            "24              14701   544441  \n",
            "25               1587    32703  \n",
            "26              66776   949184  \n",
            "27              10357   166519  \n",
            "28              33797   659288  \n"
          ]
        }
      ]
    },
    {
      "cell_type": "code",
      "source": [],
      "metadata": {
        "id": "rp__rhTWlF1h"
      },
      "execution_count": null,
      "outputs": []
    },
    {
      "cell_type": "code",
      "source": [
        "Village_Survey = []\n",
        "for index,row in dataframe.iterrows():\n",
        "  dataframe.loc[dataframe['No. OfVillagesWhere SurveyCompleted'] >= 50000, 'Village_Survey'] = '1'\n",
        "  dataframe.loc[dataframe['No. OfVillagesWhere SurveyCompleted'] < 50000, 'Village_Survey'] = '0'\n"
      ],
      "metadata": {
        "id": "TCx-5AJbbDvA"
      },
      "execution_count": null,
      "outputs": []
    },
    {
      "cell_type": "code",
      "source": [
        "dataframe.head()\n"
      ],
      "metadata": {
        "colab": {
          "base_uri": "https://localhost:8080/",
          "height": 320
        },
        "id": "331K5MU-dpYa",
        "outputId": "2767d665-8881-47d8-d5c4-38579216bb84"
      },
      "execution_count": null,
      "outputs": [
        {
          "output_type": "execute_result",
          "data": {
            "text/plain": [
              "          State Name  No. OfVillagesWhere SurveyCompleted  banks   ATM  \\\n",
              "0     ANDHRA PRADESH                                20040   3078  2220   \n",
              "1  ARUNACHAL PRADESH                                 4623     96    57   \n",
              "2              ASSAM                                26372   1867  1073   \n",
              "3              BIHAR                                45265   7523  3619   \n",
              "4       CHHATTISGARH                                19898   1373   664   \n",
              "\n",
              "   Public Transport  electricity for domestic use (in Hrs)   \\\n",
              "0             17594                                   19439   \n",
              "1              1249                                    3473   \n",
              "2             16867                                   23765   \n",
              "3             34505                                   42536   \n",
              "4             10768                                   18479   \n",
              "\n",
              "   Public Distribution System(PDS)  markets  Middle School  Aanganwadi Centre  \\\n",
              "0                            15267     3971           6438              17856   \n",
              "1                             1952      431            780               3008   \n",
              "2                            12452     8828           7363              21485   \n",
              "3                            23271    18368          20734              35768   \n",
              "4                            11760     6836          10831              18730   \n",
              "\n",
              "     NSDP Village_Survey  \n",
              "0  558862              0  \n",
              "1   14897              0  \n",
              "2  204627              0  \n",
              "3  345545              0  \n",
              "4  209211              0  "
            ],
            "text/html": [
              "\n",
              "  <div id=\"df-c6ae5dbe-5b9b-484d-bb41-f0c0f90393c1\">\n",
              "    <div class=\"colab-df-container\">\n",
              "      <div>\n",
              "<style scoped>\n",
              "    .dataframe tbody tr th:only-of-type {\n",
              "        vertical-align: middle;\n",
              "    }\n",
              "\n",
              "    .dataframe tbody tr th {\n",
              "        vertical-align: top;\n",
              "    }\n",
              "\n",
              "    .dataframe thead th {\n",
              "        text-align: right;\n",
              "    }\n",
              "</style>\n",
              "<table border=\"1\" class=\"dataframe\">\n",
              "  <thead>\n",
              "    <tr style=\"text-align: right;\">\n",
              "      <th></th>\n",
              "      <th>State Name</th>\n",
              "      <th>No. OfVillagesWhere SurveyCompleted</th>\n",
              "      <th>banks</th>\n",
              "      <th>ATM</th>\n",
              "      <th>Public Transport</th>\n",
              "      <th>electricity for domestic use (in Hrs)</th>\n",
              "      <th>Public Distribution System(PDS)</th>\n",
              "      <th>markets</th>\n",
              "      <th>Middle School</th>\n",
              "      <th>Aanganwadi Centre</th>\n",
              "      <th>NSDP</th>\n",
              "      <th>Village_Survey</th>\n",
              "    </tr>\n",
              "  </thead>\n",
              "  <tbody>\n",
              "    <tr>\n",
              "      <th>0</th>\n",
              "      <td>ANDHRA PRADESH</td>\n",
              "      <td>20040</td>\n",
              "      <td>3078</td>\n",
              "      <td>2220</td>\n",
              "      <td>17594</td>\n",
              "      <td>19439</td>\n",
              "      <td>15267</td>\n",
              "      <td>3971</td>\n",
              "      <td>6438</td>\n",
              "      <td>17856</td>\n",
              "      <td>558862</td>\n",
              "      <td>0</td>\n",
              "    </tr>\n",
              "    <tr>\n",
              "      <th>1</th>\n",
              "      <td>ARUNACHAL PRADESH</td>\n",
              "      <td>4623</td>\n",
              "      <td>96</td>\n",
              "      <td>57</td>\n",
              "      <td>1249</td>\n",
              "      <td>3473</td>\n",
              "      <td>1952</td>\n",
              "      <td>431</td>\n",
              "      <td>780</td>\n",
              "      <td>3008</td>\n",
              "      <td>14897</td>\n",
              "      <td>0</td>\n",
              "    </tr>\n",
              "    <tr>\n",
              "      <th>2</th>\n",
              "      <td>ASSAM</td>\n",
              "      <td>26372</td>\n",
              "      <td>1867</td>\n",
              "      <td>1073</td>\n",
              "      <td>16867</td>\n",
              "      <td>23765</td>\n",
              "      <td>12452</td>\n",
              "      <td>8828</td>\n",
              "      <td>7363</td>\n",
              "      <td>21485</td>\n",
              "      <td>204627</td>\n",
              "      <td>0</td>\n",
              "    </tr>\n",
              "    <tr>\n",
              "      <th>3</th>\n",
              "      <td>BIHAR</td>\n",
              "      <td>45265</td>\n",
              "      <td>7523</td>\n",
              "      <td>3619</td>\n",
              "      <td>34505</td>\n",
              "      <td>42536</td>\n",
              "      <td>23271</td>\n",
              "      <td>18368</td>\n",
              "      <td>20734</td>\n",
              "      <td>35768</td>\n",
              "      <td>345545</td>\n",
              "      <td>0</td>\n",
              "    </tr>\n",
              "    <tr>\n",
              "      <th>4</th>\n",
              "      <td>CHHATTISGARH</td>\n",
              "      <td>19898</td>\n",
              "      <td>1373</td>\n",
              "      <td>664</td>\n",
              "      <td>10768</td>\n",
              "      <td>18479</td>\n",
              "      <td>11760</td>\n",
              "      <td>6836</td>\n",
              "      <td>10831</td>\n",
              "      <td>18730</td>\n",
              "      <td>209211</td>\n",
              "      <td>0</td>\n",
              "    </tr>\n",
              "  </tbody>\n",
              "</table>\n",
              "</div>\n",
              "      <button class=\"colab-df-convert\" onclick=\"convertToInteractive('df-c6ae5dbe-5b9b-484d-bb41-f0c0f90393c1')\"\n",
              "              title=\"Convert this dataframe to an interactive table.\"\n",
              "              style=\"display:none;\">\n",
              "        \n",
              "  <svg xmlns=\"http://www.w3.org/2000/svg\" height=\"24px\"viewBox=\"0 0 24 24\"\n",
              "       width=\"24px\">\n",
              "    <path d=\"M0 0h24v24H0V0z\" fill=\"none\"/>\n",
              "    <path d=\"M18.56 5.44l.94 2.06.94-2.06 2.06-.94-2.06-.94-.94-2.06-.94 2.06-2.06.94zm-11 1L8.5 8.5l.94-2.06 2.06-.94-2.06-.94L8.5 2.5l-.94 2.06-2.06.94zm10 10l.94 2.06.94-2.06 2.06-.94-2.06-.94-.94-2.06-.94 2.06-2.06.94z\"/><path d=\"M17.41 7.96l-1.37-1.37c-.4-.4-.92-.59-1.43-.59-.52 0-1.04.2-1.43.59L10.3 9.45l-7.72 7.72c-.78.78-.78 2.05 0 2.83L4 21.41c.39.39.9.59 1.41.59.51 0 1.02-.2 1.41-.59l7.78-7.78 2.81-2.81c.8-.78.8-2.07 0-2.86zM5.41 20L4 18.59l7.72-7.72 1.47 1.35L5.41 20z\"/>\n",
              "  </svg>\n",
              "      </button>\n",
              "      \n",
              "  <style>\n",
              "    .colab-df-container {\n",
              "      display:flex;\n",
              "      flex-wrap:wrap;\n",
              "      gap: 12px;\n",
              "    }\n",
              "\n",
              "    .colab-df-convert {\n",
              "      background-color: #E8F0FE;\n",
              "      border: none;\n",
              "      border-radius: 50%;\n",
              "      cursor: pointer;\n",
              "      display: none;\n",
              "      fill: #1967D2;\n",
              "      height: 32px;\n",
              "      padding: 0 0 0 0;\n",
              "      width: 32px;\n",
              "    }\n",
              "\n",
              "    .colab-df-convert:hover {\n",
              "      background-color: #E2EBFA;\n",
              "      box-shadow: 0px 1px 2px rgba(60, 64, 67, 0.3), 0px 1px 3px 1px rgba(60, 64, 67, 0.15);\n",
              "      fill: #174EA6;\n",
              "    }\n",
              "\n",
              "    [theme=dark] .colab-df-convert {\n",
              "      background-color: #3B4455;\n",
              "      fill: #D2E3FC;\n",
              "    }\n",
              "\n",
              "    [theme=dark] .colab-df-convert:hover {\n",
              "      background-color: #434B5C;\n",
              "      box-shadow: 0px 1px 3px 1px rgba(0, 0, 0, 0.15);\n",
              "      filter: drop-shadow(0px 1px 2px rgba(0, 0, 0, 0.3));\n",
              "      fill: #FFFFFF;\n",
              "    }\n",
              "  </style>\n",
              "\n",
              "      <script>\n",
              "        const buttonEl =\n",
              "          document.querySelector('#df-c6ae5dbe-5b9b-484d-bb41-f0c0f90393c1 button.colab-df-convert');\n",
              "        buttonEl.style.display =\n",
              "          google.colab.kernel.accessAllowed ? 'block' : 'none';\n",
              "\n",
              "        async function convertToInteractive(key) {\n",
              "          const element = document.querySelector('#df-c6ae5dbe-5b9b-484d-bb41-f0c0f90393c1');\n",
              "          const dataTable =\n",
              "            await google.colab.kernel.invokeFunction('convertToInteractive',\n",
              "                                                     [key], {});\n",
              "          if (!dataTable) return;\n",
              "\n",
              "          const docLinkHtml = 'Like what you see? Visit the ' +\n",
              "            '<a target=\"_blank\" href=https://colab.research.google.com/notebooks/data_table.ipynb>data table notebook</a>'\n",
              "            + ' to learn more about interactive tables.';\n",
              "          element.innerHTML = '';\n",
              "          dataTable['output_type'] = 'display_data';\n",
              "          await google.colab.output.renderOutput(dataTable, element);\n",
              "          const docLink = document.createElement('div');\n",
              "          docLink.innerHTML = docLinkHtml;\n",
              "          element.appendChild(docLink);\n",
              "        }\n",
              "      </script>\n",
              "    </div>\n",
              "  </div>\n",
              "  "
            ]
          },
          "metadata": {},
          "execution_count": 8
        }
      ]
    },
    {
      "cell_type": "code",
      "source": [
        "Feature_Vectors = []\n",
        "for index,row in dataframe.iterrows():\n",
        "  temp = []\n",
        "  temp.append(row['No. OfVillagesWhere SurveyCompleted'])\n",
        "  temp.append(row['Aanganwadi Centre'])\n",
        "  \n",
        "  Feature_Vectors.append(temp)"
      ],
      "metadata": {
        "id": "VaQBTD31bp9m"
      },
      "execution_count": null,
      "outputs": []
    },
    {
      "cell_type": "code",
      "source": [
        "Village_Survey_Completed = []\n",
        "Village_Survey_Not_Completed = []\n",
        "\n",
        "for index,row in dataframe.iterrows():\n",
        "  temp = []\n",
        "  temp.append(row['No. OfVillagesWhere SurveyCompleted'])\n",
        "  temp.append(row['Aanganwadi Centre'])\n",
        "  \n",
        "  if row['Village_Survey'] == 1:\n",
        "    Village_Survey_Completed.append(temp)\n",
        "  else:\n",
        "    Village_Survey_Not_Completed.append(temp)"
      ],
      "metadata": {
        "id": "r-zBPg5KcP-B"
      },
      "execution_count": null,
      "outputs": []
    },
    {
      "cell_type": "code",
      "source": [
        "np.mean(Village_Survey_Completed,axis=0)\n",
        "np.mean(Village_Survey_Not_Completed,axis=0)"
      ],
      "metadata": {
        "colab": {
          "base_uri": "https://localhost:8080/"
        },
        "id": "QUF7AwKsdxY3",
        "outputId": "e00d0e68-fc16-46e3-f491-c7c614b1476e"
      },
      "execution_count": null,
      "outputs": [
        {
          "output_type": "stream",
          "name": "stderr",
          "text": [
            "/usr/local/lib/python3.8/dist-packages/numpy/core/fromnumeric.py:3440: RuntimeWarning: Mean of empty slice.\n",
            "  return _methods._mean(a, axis=axis, dtype=dtype,\n",
            "/usr/local/lib/python3.8/dist-packages/numpy/core/_methods.py:189: RuntimeWarning: invalid value encountered in double_scalars\n",
            "  ret = ret.dtype.type(ret / rcount)\n"
          ]
        },
        {
          "output_type": "execute_result",
          "data": {
            "text/plain": [
              "array([22330.27586207, 17874.27586207])"
            ]
          },
          "metadata": {},
          "execution_count": 11
        }
      ]
    },
    {
      "cell_type": "code",
      "source": [
        "np.std(Village_Survey_Completed,axis=0)\n",
        "np.std(Village_Survey_Not_Completed,axis=0)"
      ],
      "metadata": {
        "colab": {
          "base_uri": "https://localhost:8080/"
        },
        "id": "LIbkpPTHdzNq",
        "outputId": "476a3ef5-cae8-4f4d-fb69-877b9d254c18"
      },
      "execution_count": null,
      "outputs": [
        {
          "output_type": "stream",
          "name": "stderr",
          "text": [
            "/usr/local/lib/python3.8/dist-packages/numpy/core/_methods.py:262: RuntimeWarning: Degrees of freedom <= 0 for slice\n",
            "  ret = _var(a, axis=axis, dtype=dtype, out=out, ddof=ddof,\n",
            "/usr/local/lib/python3.8/dist-packages/numpy/core/_methods.py:222: RuntimeWarning: invalid value encountered in true_divide\n",
            "  arrmean = um.true_divide(arrmean, div, out=arrmean, casting='unsafe',\n",
            "/usr/local/lib/python3.8/dist-packages/numpy/core/_methods.py:254: RuntimeWarning: invalid value encountered in double_scalars\n",
            "  ret = ret.dtype.type(ret / rcount)\n"
          ]
        },
        {
          "output_type": "execute_result",
          "data": {
            "text/plain": [
              "array([22467.20085368, 16477.5665677 ])"
            ]
          },
          "metadata": {},
          "execution_count": 12
        }
      ]
    },
    {
      "cell_type": "code",
      "source": [
        "centriod = np.linalg.norm(np.mean(Village_Survey_Completed,axis=0) - np.mean(Village_Survey_Not_Completed,axis=0))\n",
        "centriod"
      ],
      "metadata": {
        "colab": {
          "base_uri": "https://localhost:8080/"
        },
        "id": "BRFMaIBjd_ja",
        "outputId": "86453591-0c30-44e6-9d1d-a43921e92575"
      },
      "execution_count": null,
      "outputs": [
        {
          "output_type": "execute_result",
          "data": {
            "text/plain": [
              "nan"
            ]
          },
          "metadata": {},
          "execution_count": 13
        }
      ]
    },
    {
      "cell_type": "code",
      "source": [
        "Feature = []\n",
        "for i in range(len(Feature_Vectors)):\n",
        "  Feature.append(Feature_Vectors[i][0])\n",
        "\n",
        "Feature = np.array(Feature)\n",
        "fig, histogram = plt.subplots(figsize =(10, 7))\n",
        "histogram.hist(Feature, bins = [0, 25, 50, 75, 100, 125])\n",
        "plt.show()"
      ],
      "metadata": {
        "colab": {
          "base_uri": "https://localhost:8080/",
          "height": 428
        },
        "id": "2mmTIqRqe8o1",
        "outputId": "bfb7aab2-d0ca-41fb-e2c8-40c4bbb8ba1f"
      },
      "execution_count": null,
      "outputs": [
        {
          "output_type": "display_data",
          "data": {
            "text/plain": [
              "<Figure size 720x504 with 1 Axes>"
            ],
            "image/png": "[encoded data removed]"
          },
          "metadata": {
            "needs_background": "light"
          }
        }
      ]
    },
    {
      "cell_type": "code",
      "source": [
        "distances = []\n",
        "x= []\n",
        "for i in range(1,11):\n",
        "  distances.append(distance.minkowski(Feature_Vectors[0],Feature_Vectors[1],i))\n",
        "  x.append(i)\n",
        "\n",
        "\n",
        "plt.plot(x,distances)\n",
        "plt.show()"
      ],
      "metadata": {
        "colab": {
          "base_uri": "https://localhost:8080/",
          "height": 265
        },
        "id": "ElsuZ-rdfK-P",
        "outputId": "7aaa663e-f802-4861-f0cb-8fb2b88e920e"
      },
      "execution_count": null,
      "outputs": [
        {
          "output_type": "display_data",
          "data": {
            "text/plain": [
              "<Figure size 432x288 with 1 Axes>"
            ],
            "image/png": "[encoded data removed]"
          },
          "metadata": {
            "needs_background": "light"
          }
        }
      ]
    },
    {
      "cell_type": "code",
      "source": [
        "y = dataframe['Village_Survey']\n",
        "from sklearn.model_selection import train_test_split\n",
        "X_train,X_test,y_train,y_test=train_test_split(Feature_Vectors,y,test_size=0.3)"
      ],
      "metadata": {
        "id": "LBSJyZqZfLuz"
      },
      "execution_count": null,
      "outputs": []
    },
    {
      "cell_type": "code",
      "source": [
        "from sklearn.neighbors import KNeighborsClassifier\n",
        "neigh = KNeighborsClassifier(n_neighbors=3)\n",
        "neigh.fit(list(Feature_Vectors),y)\n",
        "neigh.score(X_test,y_test)\n",
        "neigh.predict(X_test)"
      ],
      "metadata": {
        "colab": {
          "base_uri": "https://localhost:8080/"
        },
        "id": "JNtj9SKWgPbo",
        "outputId": "4f541bd9-99b8-4530-b0df-65359ec0434b"
      },
      "execution_count": null,
      "outputs": [
        {
          "output_type": "execute_result",
          "data": {
            "text/plain": [
              "array(['0', '0', '0', '0', '0', '1', '0', '0', '0'], dtype=object)"
            ]
          },
          "metadata": {},
          "execution_count": 17
        }
      ]
    },
    {
      "cell_type": "code",
      "source": [
        "pred=neigh.predict(X_test)\n",
        "pred"
      ],
      "metadata": {
        "colab": {
          "base_uri": "https://localhost:8080/"
        },
        "id": "OpHjrcz6VE26",
        "outputId": "714aeb9d-393b-4a6d-b438-97233f4fd641"
      },
      "execution_count": null,
      "outputs": [
        {
          "output_type": "execute_result",
          "data": {
            "text/plain": [
              "array(['0', '0', '0', '0', '0', '1', '0', '0', '0'], dtype=object)"
            ]
          },
          "metadata": {},
          "execution_count": 18
        }
      ]
    },
    {
      "cell_type": "code",
      "source": [
        "confusion_matrix(y_test,pred)"
      ],
      "metadata": {
        "colab": {
          "base_uri": "https://localhost:8080/",
          "height": 168
        },
        "id": "o4Ke1nX5VfTA",
        "outputId": "f0a07743-89ab-4378-945e-33110a2324ec"
      },
      "execution_count": null,
      "outputs": [
        {
          "output_type": "error",
          "ename": "NameError",
          "evalue": "ignored",
          "traceback": [
            "\u001b[0;31m---------------------------------------------------------------------------\u001b[0m",
            "\u001b[0;31mNameError\u001b[0m                                 Traceback (most recent call last)",
            "\u001b[0;32m<ipython-input-19-eda65c24e7c3>\u001b[0m in \u001b[0;36m<module>\u001b[0;34m\u001b[0m\n\u001b[0;32m----> 1\u001b[0;31m \u001b[0mconfusion_matrix\u001b[0m\u001b[0;34m(\u001b[0m\u001b[0my_test\u001b[0m\u001b[0;34m,\u001b[0m\u001b[0mpred\u001b[0m\u001b[0;34m)\u001b[0m\u001b[0;34m\u001b[0m\u001b[0;34m\u001b[0m\u001b[0m\n\u001b[0m",
            "\u001b[0;31mNameError\u001b[0m: name 'confusion_matrix' is not defined"
          ]
        }
      ]
    },
    {
      "cell_type": "code",
      "source": [
        "print(classification_report(y_test,pred))"
      ],
      "metadata": {
        "colab": {
          "base_uri": "https://localhost:8080/",
          "height": 168
        },
        "id": "_iAtoI9WVmNU",
        "outputId": "86dcfb86-889f-4192-b9d1-8923258cc86c"
      },
      "execution_count": null,
      "outputs": [
        {
          "output_type": "error",
          "ename": "NameError",
          "evalue": "ignored",
          "traceback": [
            "\u001b[0;31m---------------------------------------------------------------------------\u001b[0m",
            "\u001b[0;31mNameError\u001b[0m                                 Traceback (most recent call last)",
            "\u001b[0;32m<ipython-input-20-7438163cdb59>\u001b[0m in \u001b[0;36m<module>\u001b[0;34m\u001b[0m\n\u001b[0;32m----> 1\u001b[0;31m \u001b[0mprint\u001b[0m\u001b[0;34m(\u001b[0m\u001b[0mclassification_report\u001b[0m\u001b[0;34m(\u001b[0m\u001b[0my_test\u001b[0m\u001b[0;34m,\u001b[0m\u001b[0mpred\u001b[0m\u001b[0;34m)\u001b[0m\u001b[0;34m)\u001b[0m\u001b[0;34m\u001b[0m\u001b[0;34m\u001b[0m\u001b[0m\n\u001b[0m",
            "\u001b[0;31mNameError\u001b[0m: name 'classification_report' is not defined"
          ]
        }
      ]
    },
    {
      "cell_type": "code",
      "source": [
        "scores = []\n",
        "x = []\n",
        "for i in range(1,10):\n",
        "  neigh = KNeighborsClassifier(n_neighbors=i)\n",
        "  neigh.fit(list(Feature_Vectors),y)\n",
        "  scores.append(neigh.score(list(X_test),y_test))\n",
        "  x.append(i)\n",
        "\n",
        "\n",
        "plt.plot(x,scores)\n",
        "plt.show()"
      ],
      "metadata": {
        "colab": {
          "base_uri": "https://localhost:8080/",
          "height": 265
        },
        "id": "I82AusRugR2g",
        "outputId": "76659091-8a73-491f-bb29-814a55e793fb"
      },
      "execution_count": null,
      "outputs": [
        {
          "output_type": "display_data",
          "data": {
            "text/plain": [
              "<Figure size 432x288 with 1 Axes>"
            ],
            "image/png": "[encoded data removed]"
          },
          "metadata": {
            "needs_background": "light"
          }
        }
      ]
    },
    {
      "cell_type": "code",
      "source": [
        "df = pd.read_excel('/content/Output.xlsx')\n",
        "df"
      ],
      "metadata": {
        "colab": {
          "base_uri": "https://localhost:8080/",
          "height": 1000
        },
        "id": "49tred8ciafk",
        "outputId": "a485dd29-2fa7-4e53-acca-9d03d02df9ff"
      },
      "execution_count": null,
      "outputs": [
        {
          "output_type": "execute_result",
          "data": {
            "text/plain": [
              "    State Name  No. OfVillagesWhere SurveyCompleted  banks   ATM  \\\n",
              "0            0                                20040   3078  2220   \n",
              "1            1                                 4623     96    57   \n",
              "2            2                                26372   1867  1073   \n",
              "3            3                                45265   7523  3619   \n",
              "4            4                                19898   1373   664   \n",
              "5            5                                  403    176   158   \n",
              "6            6                                18391   5786  4899   \n",
              "7            7                                 7500   1814   884   \n",
              "8            8                                19602   1401  1022   \n",
              "9            9                                 7646    997   794   \n",
              "10          10                                31212   2561  1288   \n",
              "11          11                                32132   4153  2629   \n",
              "12          12                                 1596   1447  1322   \n",
              "13          13                                52688   3847  1625   \n",
              "14          14                                43735   5341  3475   \n",
              "15          15                                 3368    115   108   \n",
              "16          16                                 6156    274   161   \n",
              "17          17                                  838     98    48   \n",
              "18          18                                 1234     35    32   \n",
              "19          19                                49272   4008  2772   \n",
              "20          20                                14685   2600  1952   \n",
              "21          21                                45692   3883  2861   \n",
              "22          22                                  456     73    52   \n",
              "23          23                                17733   4450  3535   \n",
              "24          24                                15787   1889  1183   \n",
              "25          25                                 1656    315   145   \n",
              "26          26                               104031   8817  4570   \n",
              "27          27                                15848    850   512   \n",
              "28          28                                39719   5477  3420   \n",
              "\n",
              "    Public Transport  electricity for domestic use (in Hrs)   \\\n",
              "0              17594                                   19439   \n",
              "1               1249                                    3473   \n",
              "2              16867                                   23765   \n",
              "3              34505                                   42536   \n",
              "4              10768                                   18479   \n",
              "5                371                                     391   \n",
              "6              18104                                   18331   \n",
              "7               6052                                    7424   \n",
              "8              14805                                   18278   \n",
              "9               6073                                    7461   \n",
              "10             15391                                   28977   \n",
              "11             27458                                   30476   \n",
              "12              1593                                    1596   \n",
              "13             33792                                   51269   \n",
              "14             35737                                   41181   \n",
              "15              1953                                    2778   \n",
              "16              3408                                    5363   \n",
              "17               471                                     767   \n",
              "18               545                                    1172   \n",
              "19             35103                                   45760   \n",
              "20             12007                                   14477   \n",
              "21             28563                                   44609   \n",
              "22               388                                     425   \n",
              "23             15530                                   17227   \n",
              "24             14274                                   15262   \n",
              "25              1485                                    1622   \n",
              "26             51728                                  100161   \n",
              "27             10124                                   15356   \n",
              "28             29757                                   38439   \n",
              "\n",
              "    Public Distribution System(PDS)  markets  Middle School  \\\n",
              "0                             15267     3971           6438   \n",
              "1                              1952      431            780   \n",
              "2                             12452     8828           7363   \n",
              "3                             23271    18368          20734   \n",
              "4                             11760     6836          10831   \n",
              "5                               236       78            170   \n",
              "6                             15324    13156           9649   \n",
              "7                              4792     1097           4712   \n",
              "8                              7294     2255           4035   \n",
              "9                              4816     2189           5074   \n",
              "10                            10968     8670           9822   \n",
              "11                            11436     5147          14259   \n",
              "12                             1558     1339           1442   \n",
              "13                            19659     8312          26344   \n",
              "14                            22625     8806          15782   \n",
              "15                             1842      506            483   \n",
              "16                             2596     2047           2388   \n",
              "17                              634      259            707   \n",
              "18                              684      190            552   \n",
              "19                            21769    10665          16795   \n",
              "20                             6230     3246           5504   \n",
              "21                            14694     5981          19811   \n",
              "22                              296       88            186   \n",
              "23                            15199     3504           8093   \n",
              "24                            11546     1931           5126   \n",
              "25                             1201      997           1047   \n",
              "26                            65304    22458          41911   \n",
              "27                             6547     1953           4120   \n",
              "28                            14486    12323           9468   \n",
              "\n",
              "    Aanganwadi Centre     NSDP classify  \n",
              "0               17856   558862     High  \n",
              "1                3008    14897      Low  \n",
              "2               21485   204627      Low  \n",
              "3               35768   345545      Low  \n",
              "4               18730   209211      Low  \n",
              "5                 331    47425      Low  \n",
              "6               17948  1034399     High  \n",
              "7                7127   470328     High  \n",
              "8               12451    99218      Low  \n",
              "9                7072    93072      Low  \n",
              "10              22043   208701      Low  \n",
              "11              27120   974815     High  \n",
              "12               1576   510787     High  \n",
              "13              46128   482361     High  \n",
              "14              39424  1728578     High  \n",
              "15               2587    16193      Low  \n",
              "16               3819    20968      Low  \n",
              "17                805    14116      Low  \n",
              "18               1138    15055      Low  \n",
              "19              39507   338339      Low  \n",
              "20              12638   353942      Low  \n",
              "21              36177   568102     High  \n",
              "22                414    15889      Low  \n",
              "23              15984  1071602     High  \n",
              "24              14701   544441     High  \n",
              "25               1587    32703      Low  \n",
              "26              66776   949184     High  \n",
              "27              10357   166519      Low  \n",
              "28              33797   659288     High  "
            ],
            "text/html": [
              "\n",
              "  <div id=\"df-ecae01cc-8358-42ad-a0d1-4374c4690f09\">\n",
              "    <div class=\"colab-df-container\">\n",
              "      <div>\n",
              "<style scoped>\n",
              "    .dataframe tbody tr th:only-of-type {\n",
              "        vertical-align: middle;\n",
              "    }\n",
              "\n",
              "    .dataframe tbody tr th {\n",
              "        vertical-align: top;\n",
              "    }\n",
              "\n",
              "    .dataframe thead th {\n",
              "        text-align: right;\n",
              "    }\n",
              "</style>\n",
              "<table border=\"1\" class=\"dataframe\">\n",
              "  <thead>\n",
              "    <tr style=\"text-align: right;\">\n",
              "      <th></th>\n",
              "      <th>State Name</th>\n",
              "      <th>No. OfVillagesWhere SurveyCompleted</th>\n",
              "      <th>banks</th>\n",
              "      <th>ATM</th>\n",
              "      <th>Public Transport</th>\n",
              "      <th>electricity for domestic use (in Hrs)</th>\n",
              "      <th>Public Distribution System(PDS)</th>\n",
              "      <th>markets</th>\n",
              "      <th>Middle School</th>\n",
              "      <th>Aanganwadi Centre</th>\n",
              "      <th>NSDP</th>\n",
              "      <th>classify</th>\n",
              "    </tr>\n",
              "  </thead>\n",
              "  <tbody>\n",
              "    <tr>\n",
              "      <th>0</th>\n",
              "      <td>0</td>\n",
              "      <td>20040</td>\n",
              "      <td>3078</td>\n",
              "      <td>2220</td>\n",
              "      <td>17594</td>\n",
              "      <td>19439</td>\n",
              "      <td>15267</td>\n",
              "      <td>3971</td>\n",
              "      <td>6438</td>\n",
              "      <td>17856</td>\n",
              "      <td>558862</td>\n",
              "      <td>High</td>\n",
              "    </tr>\n",
              "    <tr>\n",
              "      <th>1</th>\n",
              "      <td>1</td>\n",
              "      <td>4623</td>\n",
              "      <td>96</td>\n",
              "      <td>57</td>\n",
              "      <td>1249</td>\n",
              "      <td>3473</td>\n",
              "      <td>1952</td>\n",
              "      <td>431</td>\n",
              "      <td>780</td>\n",
              "      <td>3008</td>\n",
              "      <td>14897</td>\n",
              "      <td>Low</td>\n",
              "    </tr>\n",
              "    <tr>\n",
              "      <th>2</th>\n",
              "      <td>2</td>\n",
              "      <td>26372</td>\n",
              "      <td>1867</td>\n",
              "      <td>1073</td>\n",
              "      <td>16867</td>\n",
              "      <td>23765</td>\n",
              "      <td>12452</td>\n",
              "      <td>8828</td>\n",
              "      <td>7363</td>\n",
              "      <td>21485</td>\n",
              "      <td>204627</td>\n",
              "      <td>Low</td>\n",
              "    </tr>\n",
              "    <tr>\n",
              "      <th>3</th>\n",
              "      <td>3</td>\n",
              "      <td>45265</td>\n",
              "      <td>7523</td>\n",
              "      <td>3619</td>\n",
              "      <td>34505</td>\n",
              "      <td>42536</td>\n",
              "      <td>23271</td>\n",
              "      <td>18368</td>\n",
              "      <td>20734</td>\n",
              "      <td>35768</td>\n",
              "      <td>345545</td>\n",
              "      <td>Low</td>\n",
              "    </tr>\n",
              "    <tr>\n",
              "      <th>4</th>\n",
              "      <td>4</td>\n",
              "      <td>19898</td>\n",
              "      <td>1373</td>\n",
              "      <td>664</td>\n",
              "      <td>10768</td>\n",
              "      <td>18479</td>\n",
              "      <td>11760</td>\n",
              "      <td>6836</td>\n",
              "      <td>10831</td>\n",
              "      <td>18730</td>\n",
              "      <td>209211</td>\n",
              "      <td>Low</td>\n",
              "    </tr>\n",
              "    <tr>\n",
              "      <th>5</th>\n",
              "      <td>5</td>\n",
              "      <td>403</td>\n",
              "      <td>176</td>\n",
              "      <td>158</td>\n",
              "      <td>371</td>\n",
              "      <td>391</td>\n",
              "      <td>236</td>\n",
              "      <td>78</td>\n",
              "      <td>170</td>\n",
              "      <td>331</td>\n",
              "      <td>47425</td>\n",
              "      <td>Low</td>\n",
              "    </tr>\n",
              "    <tr>\n",
              "      <th>6</th>\n",
              "      <td>6</td>\n",
              "      <td>18391</td>\n",
              "      <td>5786</td>\n",
              "      <td>4899</td>\n",
              "      <td>18104</td>\n",
              "      <td>18331</td>\n",
              "      <td>15324</td>\n",
              "      <td>13156</td>\n",
              "      <td>9649</td>\n",
              "      <td>17948</td>\n",
              "      <td>1034399</td>\n",
              "      <td>High</td>\n",
              "    </tr>\n",
              "    <tr>\n",
              "      <th>7</th>\n",
              "      <td>7</td>\n",
              "      <td>7500</td>\n",
              "      <td>1814</td>\n",
              "      <td>884</td>\n",
              "      <td>6052</td>\n",
              "      <td>7424</td>\n",
              "      <td>4792</td>\n",
              "      <td>1097</td>\n",
              "      <td>4712</td>\n",
              "      <td>7127</td>\n",
              "      <td>470328</td>\n",
              "      <td>High</td>\n",
              "    </tr>\n",
              "    <tr>\n",
              "      <th>8</th>\n",
              "      <td>8</td>\n",
              "      <td>19602</td>\n",
              "      <td>1401</td>\n",
              "      <td>1022</td>\n",
              "      <td>14805</td>\n",
              "      <td>18278</td>\n",
              "      <td>7294</td>\n",
              "      <td>2255</td>\n",
              "      <td>4035</td>\n",
              "      <td>12451</td>\n",
              "      <td>99218</td>\n",
              "      <td>Low</td>\n",
              "    </tr>\n",
              "    <tr>\n",
              "      <th>9</th>\n",
              "      <td>9</td>\n",
              "      <td>7646</td>\n",
              "      <td>997</td>\n",
              "      <td>794</td>\n",
              "      <td>6073</td>\n",
              "      <td>7461</td>\n",
              "      <td>4816</td>\n",
              "      <td>2189</td>\n",
              "      <td>5074</td>\n",
              "      <td>7072</td>\n",
              "      <td>93072</td>\n",
              "      <td>Low</td>\n",
              "    </tr>\n",
              "    <tr>\n",
              "      <th>10</th>\n",
              "      <td>10</td>\n",
              "      <td>31212</td>\n",
              "      <td>2561</td>\n",
              "      <td>1288</td>\n",
              "      <td>15391</td>\n",
              "      <td>28977</td>\n",
              "      <td>10968</td>\n",
              "      <td>8670</td>\n",
              "      <td>9822</td>\n",
              "      <td>22043</td>\n",
              "      <td>208701</td>\n",
              "      <td>Low</td>\n",
              "    </tr>\n",
              "    <tr>\n",
              "      <th>11</th>\n",
              "      <td>11</td>\n",
              "      <td>32132</td>\n",
              "      <td>4153</td>\n",
              "      <td>2629</td>\n",
              "      <td>27458</td>\n",
              "      <td>30476</td>\n",
              "      <td>11436</td>\n",
              "      <td>5147</td>\n",
              "      <td>14259</td>\n",
              "      <td>27120</td>\n",
              "      <td>974815</td>\n",
              "      <td>High</td>\n",
              "    </tr>\n",
              "    <tr>\n",
              "      <th>12</th>\n",
              "      <td>12</td>\n",
              "      <td>1596</td>\n",
              "      <td>1447</td>\n",
              "      <td>1322</td>\n",
              "      <td>1593</td>\n",
              "      <td>1596</td>\n",
              "      <td>1558</td>\n",
              "      <td>1339</td>\n",
              "      <td>1442</td>\n",
              "      <td>1576</td>\n",
              "      <td>510787</td>\n",
              "      <td>High</td>\n",
              "    </tr>\n",
              "    <tr>\n",
              "      <th>13</th>\n",
              "      <td>13</td>\n",
              "      <td>52688</td>\n",
              "      <td>3847</td>\n",
              "      <td>1625</td>\n",
              "      <td>33792</td>\n",
              "      <td>51269</td>\n",
              "      <td>19659</td>\n",
              "      <td>8312</td>\n",
              "      <td>26344</td>\n",
              "      <td>46128</td>\n",
              "      <td>482361</td>\n",
              "      <td>High</td>\n",
              "    </tr>\n",
              "    <tr>\n",
              "      <th>14</th>\n",
              "      <td>14</td>\n",
              "      <td>43735</td>\n",
              "      <td>5341</td>\n",
              "      <td>3475</td>\n",
              "      <td>35737</td>\n",
              "      <td>41181</td>\n",
              "      <td>22625</td>\n",
              "      <td>8806</td>\n",
              "      <td>15782</td>\n",
              "      <td>39424</td>\n",
              "      <td>1728578</td>\n",
              "      <td>High</td>\n",
              "    </tr>\n",
              "    <tr>\n",
              "      <th>15</th>\n",
              "      <td>15</td>\n",
              "      <td>3368</td>\n",
              "      <td>115</td>\n",
              "      <td>108</td>\n",
              "      <td>1953</td>\n",
              "      <td>2778</td>\n",
              "      <td>1842</td>\n",
              "      <td>506</td>\n",
              "      <td>483</td>\n",
              "      <td>2587</td>\n",
              "      <td>16193</td>\n",
              "      <td>Low</td>\n",
              "    </tr>\n",
              "    <tr>\n",
              "      <th>16</th>\n",
              "      <td>16</td>\n",
              "      <td>6156</td>\n",
              "      <td>274</td>\n",
              "      <td>161</td>\n",
              "      <td>3408</td>\n",
              "      <td>5363</td>\n",
              "      <td>2596</td>\n",
              "      <td>2047</td>\n",
              "      <td>2388</td>\n",
              "      <td>3819</td>\n",
              "      <td>20968</td>\n",
              "      <td>Low</td>\n",
              "    </tr>\n",
              "    <tr>\n",
              "      <th>17</th>\n",
              "      <td>17</td>\n",
              "      <td>838</td>\n",
              "      <td>98</td>\n",
              "      <td>48</td>\n",
              "      <td>471</td>\n",
              "      <td>767</td>\n",
              "      <td>634</td>\n",
              "      <td>259</td>\n",
              "      <td>707</td>\n",
              "      <td>805</td>\n",
              "      <td>14116</td>\n",
              "      <td>Low</td>\n",
              "    </tr>\n",
              "    <tr>\n",
              "      <th>18</th>\n",
              "      <td>18</td>\n",
              "      <td>1234</td>\n",
              "      <td>35</td>\n",
              "      <td>32</td>\n",
              "      <td>545</td>\n",
              "      <td>1172</td>\n",
              "      <td>684</td>\n",
              "      <td>190</td>\n",
              "      <td>552</td>\n",
              "      <td>1138</td>\n",
              "      <td>15055</td>\n",
              "      <td>Low</td>\n",
              "    </tr>\n",
              "    <tr>\n",
              "      <th>19</th>\n",
              "      <td>19</td>\n",
              "      <td>49272</td>\n",
              "      <td>4008</td>\n",
              "      <td>2772</td>\n",
              "      <td>35103</td>\n",
              "      <td>45760</td>\n",
              "      <td>21769</td>\n",
              "      <td>10665</td>\n",
              "      <td>16795</td>\n",
              "      <td>39507</td>\n",
              "      <td>338339</td>\n",
              "      <td>Low</td>\n",
              "    </tr>\n",
              "    <tr>\n",
              "      <th>20</th>\n",
              "      <td>20</td>\n",
              "      <td>14685</td>\n",
              "      <td>2600</td>\n",
              "      <td>1952</td>\n",
              "      <td>12007</td>\n",
              "      <td>14477</td>\n",
              "      <td>6230</td>\n",
              "      <td>3246</td>\n",
              "      <td>5504</td>\n",
              "      <td>12638</td>\n",
              "      <td>353942</td>\n",
              "      <td>Low</td>\n",
              "    </tr>\n",
              "    <tr>\n",
              "      <th>21</th>\n",
              "      <td>21</td>\n",
              "      <td>45692</td>\n",
              "      <td>3883</td>\n",
              "      <td>2861</td>\n",
              "      <td>28563</td>\n",
              "      <td>44609</td>\n",
              "      <td>14694</td>\n",
              "      <td>5981</td>\n",
              "      <td>19811</td>\n",
              "      <td>36177</td>\n",
              "      <td>568102</td>\n",
              "      <td>High</td>\n",
              "    </tr>\n",
              "    <tr>\n",
              "      <th>22</th>\n",
              "      <td>22</td>\n",
              "      <td>456</td>\n",
              "      <td>73</td>\n",
              "      <td>52</td>\n",
              "      <td>388</td>\n",
              "      <td>425</td>\n",
              "      <td>296</td>\n",
              "      <td>88</td>\n",
              "      <td>186</td>\n",
              "      <td>414</td>\n",
              "      <td>15889</td>\n",
              "      <td>Low</td>\n",
              "    </tr>\n",
              "    <tr>\n",
              "      <th>23</th>\n",
              "      <td>23</td>\n",
              "      <td>17733</td>\n",
              "      <td>4450</td>\n",
              "      <td>3535</td>\n",
              "      <td>15530</td>\n",
              "      <td>17227</td>\n",
              "      <td>15199</td>\n",
              "      <td>3504</td>\n",
              "      <td>8093</td>\n",
              "      <td>15984</td>\n",
              "      <td>1071602</td>\n",
              "      <td>High</td>\n",
              "    </tr>\n",
              "    <tr>\n",
              "      <th>24</th>\n",
              "      <td>24</td>\n",
              "      <td>15787</td>\n",
              "      <td>1889</td>\n",
              "      <td>1183</td>\n",
              "      <td>14274</td>\n",
              "      <td>15262</td>\n",
              "      <td>11546</td>\n",
              "      <td>1931</td>\n",
              "      <td>5126</td>\n",
              "      <td>14701</td>\n",
              "      <td>544441</td>\n",
              "      <td>High</td>\n",
              "    </tr>\n",
              "    <tr>\n",
              "      <th>25</th>\n",
              "      <td>25</td>\n",
              "      <td>1656</td>\n",
              "      <td>315</td>\n",
              "      <td>145</td>\n",
              "      <td>1485</td>\n",
              "      <td>1622</td>\n",
              "      <td>1201</td>\n",
              "      <td>997</td>\n",
              "      <td>1047</td>\n",
              "      <td>1587</td>\n",
              "      <td>32703</td>\n",
              "      <td>Low</td>\n",
              "    </tr>\n",
              "    <tr>\n",
              "      <th>26</th>\n",
              "      <td>26</td>\n",
              "      <td>104031</td>\n",
              "      <td>8817</td>\n",
              "      <td>4570</td>\n",
              "      <td>51728</td>\n",
              "      <td>100161</td>\n",
              "      <td>65304</td>\n",
              "      <td>22458</td>\n",
              "      <td>41911</td>\n",
              "      <td>66776</td>\n",
              "      <td>949184</td>\n",
              "      <td>High</td>\n",
              "    </tr>\n",
              "    <tr>\n",
              "      <th>27</th>\n",
              "      <td>27</td>\n",
              "      <td>15848</td>\n",
              "      <td>850</td>\n",
              "      <td>512</td>\n",
              "      <td>10124</td>\n",
              "      <td>15356</td>\n",
              "      <td>6547</td>\n",
              "      <td>1953</td>\n",
              "      <td>4120</td>\n",
              "      <td>10357</td>\n",
              "      <td>166519</td>\n",
              "      <td>Low</td>\n",
              "    </tr>\n",
              "    <tr>\n",
              "      <th>28</th>\n",
              "      <td>28</td>\n",
              "      <td>39719</td>\n",
              "      <td>5477</td>\n",
              "      <td>3420</td>\n",
              "      <td>29757</td>\n",
              "      <td>38439</td>\n",
              "      <td>14486</td>\n",
              "      <td>12323</td>\n",
              "      <td>9468</td>\n",
              "      <td>33797</td>\n",
              "      <td>659288</td>\n",
              "      <td>High</td>\n",
              "    </tr>\n",
              "  </tbody>\n",
              "</table>\n",
              "</div>\n",
              "      <button class=\"colab-df-convert\" onclick=\"convertToInteractive('df-ecae01cc-8358-42ad-a0d1-4374c4690f09')\"\n",
              "              title=\"Convert this dataframe to an interactive table.\"\n",
              "              style=\"display:none;\">\n",
              "        \n",
              "  <svg xmlns=\"http://www.w3.org/2000/svg\" height=\"24px\"viewBox=\"0 0 24 24\"\n",
              "       width=\"24px\">\n",
              "    <path d=\"M0 0h24v24H0V0z\" fill=\"none\"/>\n",
              "    <path d=\"M18.56 5.44l.94 2.06.94-2.06 2.06-.94-2.06-.94-.94-2.06-.94 2.06-2.06.94zm-11 1L8.5 8.5l.94-2.06 2.06-.94-2.06-.94L8.5 2.5l-.94 2.06-2.06.94zm10 10l.94 2.06.94-2.06 2.06-.94-2.06-.94-.94-2.06-.94 2.06-2.06.94z\"/><path d=\"M17.41 7.96l-1.37-1.37c-.4-.4-.92-.59-1.43-.59-.52 0-1.04.2-1.43.59L10.3 9.45l-7.72 7.72c-.78.78-.78 2.05 0 2.83L4 21.41c.39.39.9.59 1.41.59.51 0 1.02-.2 1.41-.59l7.78-7.78 2.81-2.81c.8-.78.8-2.07 0-2.86zM5.41 20L4 18.59l7.72-7.72 1.47 1.35L5.41 20z\"/>\n",
              "  </svg>\n",
              "      </button>\n",
              "      \n",
              "  <style>\n",
              "    .colab-df-container {\n",
              "      display:flex;\n",
              "      flex-wrap:wrap;\n",
              "      gap: 12px;\n",
              "    }\n",
              "\n",
              "    .colab-df-convert {\n",
              "      background-color: #E8F0FE;\n",
              "      border: none;\n",
              "      border-radius: 50%;\n",
              "      cursor: pointer;\n",
              "      display: none;\n",
              "      fill: #1967D2;\n",
              "      height: 32px;\n",
              "      padding: 0 0 0 0;\n",
              "      width: 32px;\n",
              "    }\n",
              "\n",
              "    .colab-df-convert:hover {\n",
              "      background-color: #E2EBFA;\n",
              "      box-shadow: 0px 1px 2px rgba(60, 64, 67, 0.3), 0px 1px 3px 1px rgba(60, 64, 67, 0.15);\n",
              "      fill: #174EA6;\n",
              "    }\n",
              "\n",
              "    [theme=dark] .colab-df-convert {\n",
              "      background-color: #3B4455;\n",
              "      fill: #D2E3FC;\n",
              "    }\n",
              "\n",
              "    [theme=dark] .colab-df-convert:hover {\n",
              "      background-color: #434B5C;\n",
              "      box-shadow: 0px 1px 3px 1px rgba(0, 0, 0, 0.15);\n",
              "      filter: drop-shadow(0px 1px 2px rgba(0, 0, 0, 0.3));\n",
              "      fill: #FFFFFF;\n",
              "    }\n",
              "  </style>\n",
              "\n",
              "      <script>\n",
              "        const buttonEl =\n",
              "          document.querySelector('#df-ecae01cc-8358-42ad-a0d1-4374c4690f09 button.colab-df-convert');\n",
              "        buttonEl.style.display =\n",
              "          google.colab.kernel.accessAllowed ? 'block' : 'none';\n",
              "\n",
              "        async function convertToInteractive(key) {\n",
              "          const element = document.querySelector('#df-ecae01cc-8358-42ad-a0d1-4374c4690f09');\n",
              "          const dataTable =\n",
              "            await google.colab.kernel.invokeFunction('convertToInteractive',\n",
              "                                                     [key], {});\n",
              "          if (!dataTable) return;\n",
              "\n",
              "          const docLinkHtml = 'Like what you see? Visit the ' +\n",
              "            '<a target=\"_blank\" href=https://colab.research.google.com/notebooks/data_table.ipynb>data table notebook</a>'\n",
              "            + ' to learn more about interactive tables.';\n",
              "          element.innerHTML = '';\n",
              "          dataTable['output_type'] = 'display_data';\n",
              "          await google.colab.output.renderOutput(dataTable, element);\n",
              "          const docLink = document.createElement('div');\n",
              "          docLink.innerHTML = docLinkHtml;\n",
              "          element.appendChild(docLink);\n",
              "        }\n",
              "      </script>\n",
              "    </div>\n",
              "  </div>\n",
              "  "
            ]
          },
          "metadata": {},
          "execution_count": 26
        }
      ]
    },
    {
      "cell_type": "code",
      "source": [
        "from sklearn.neural_network import MLPClassifier\n",
        "from sklearn.model_selection import train_test_split\n",
        "from sklearn.metrics import classification_report,confusion_matrix,accuracy_score"
      ],
      "metadata": {
        "id": "4YrjTJNtjqG4"
      },
      "execution_count": null,
      "outputs": []
    },
    {
      "cell_type": "code",
      "source": [
        "df2=df['NSDP']>= 405143\n",
        "df3=df2.replace(to_replace=True,value='High')\n",
        "df4=df3.replace(to_replace=False,value='Low')"
      ],
      "metadata": {
        "id": "QTmdTlutig1q"
      },
      "execution_count": null,
      "outputs": []
    },
    {
      "cell_type": "code",
      "source": [
        "df['classify']=df4"
      ],
      "metadata": {
        "id": "ypO_Po_Si9Pb"
      },
      "execution_count": null,
      "outputs": []
    },
    {
      "cell_type": "code",
      "source": [
        "x= df.drop('classify',axis=1)\n",
        "y=df['classify']"
      ],
      "metadata": {
        "id": "ZLT9mgR6k1M_"
      },
      "execution_count": null,
      "outputs": []
    },
    {
      "cell_type": "code",
      "source": [
        "from sklearn.model_selection import train_test_split\n",
        "x_train,x_test,y_train,y_test=train_test_split(x,y,test_size=0.2)\n",
        "print(x_train.shape)\n",
        "print(x_test.shape)"
      ],
      "metadata": {
        "colab": {
          "base_uri": "https://localhost:8080/"
        },
        "id": "0cnh10IijHPD",
        "outputId": "378dee8a-0aac-47f7-ce6d-cc3d771d8f2c"
      },
      "execution_count": null,
      "outputs": [
        {
          "output_type": "stream",
          "name": "stdout",
          "text": [
            "(23, 11)\n",
            "(6, 11)\n"
          ]
        }
      ]
    },
    {
      "cell_type": "code",
      "source": [
        "mlp=MLPClassifier(hidden_layer_sizes=(3,2),max_iter=10,activation='relu')\n",
        "mlp"
      ],
      "metadata": {
        "colab": {
          "base_uri": "https://localhost:8080/"
        },
        "id": "msjxnJfGjiHE",
        "outputId": "dab1ee99-0433-4bac-a8bb-304f1807905a"
      },
      "execution_count": null,
      "outputs": [
        {
          "output_type": "execute_result",
          "data": {
            "text/plain": [
              "MLPClassifier(hidden_layer_sizes=(3, 2), max_iter=10)"
            ]
          },
          "metadata": {},
          "execution_count": 32
        }
      ]
    },
    {
      "cell_type": "code",
      "source": [
        "mlp.fit(x_train,y_train)"
      ],
      "metadata": {
        "colab": {
          "base_uri": "https://localhost:8080/"
        },
        "id": "j0jGzT3yjidz",
        "outputId": "8e3f5a57-a740-4ca7-eac9-8972c3fc1ab8"
      },
      "execution_count": null,
      "outputs": [
        {
          "output_type": "stream",
          "name": "stderr",
          "text": [
            "/usr/local/lib/python3.8/dist-packages/sklearn/neural_network/_multilayer_perceptron.py:692: ConvergenceWarning: Stochastic Optimizer: Maximum iterations (10) reached and the optimization hasn't converged yet.\n",
            "  warnings.warn(\n"
          ]
        },
        {
          "output_type": "execute_result",
          "data": {
            "text/plain": [
              "MLPClassifier(hidden_layer_sizes=(3, 2), max_iter=10)"
            ]
          },
          "metadata": {},
          "execution_count": 33
        }
      ]
    },
    {
      "cell_type": "code",
      "source": [
        "pred=mlp.predict(x_test)\n",
        "pred"
      ],
      "metadata": {
        "colab": {
          "base_uri": "https://localhost:8080/"
        },
        "id": "pyCqSTpjlkMr",
        "outputId": "6e5033fa-55f1-48df-b199-4b7cfd65a91f"
      },
      "execution_count": null,
      "outputs": [
        {
          "output_type": "execute_result",
          "data": {
            "text/plain": [
              "array(['Low', 'Low', 'Low', 'Low', 'Low', 'Low'], dtype='<U4')"
            ]
          },
          "metadata": {},
          "execution_count": 34
        }
      ]
    },
    {
      "cell_type": "code",
      "source": [
        "accuracy_score(y_test,pred)*100"
      ],
      "metadata": {
        "colab": {
          "base_uri": "https://localhost:8080/"
        },
        "id": "rCOkAf0nlnty",
        "outputId": "98f4ca8b-10d1-4db2-decb-2b6f7eae8c29"
      },
      "execution_count": null,
      "outputs": [
        {
          "output_type": "execute_result",
          "data": {
            "text/plain": [
              "33.33333333333333"
            ]
          },
          "metadata": {},
          "execution_count": 35
        }
      ]
    },
    {
      "cell_type": "code",
      "source": [
        "import time\n",
        "t0 = time.time()\n",
        "mlp.fit(x_train,y_train)\n",
        "mlp.score(x_test,y_test)\n",
        "print('MLP Score:',mlp.score(x_test,y_test))\n",
        "t1 = time.time()\n",
        "print(\"Time taken to train and test the set is\", t1-t0)"
      ],
      "metadata": {
        "colab": {
          "base_uri": "https://localhost:8080/"
        },
        "id": "iUaCM9aulz8x",
        "outputId": "3d82498e-f00d-4ef4-c323-9b12d54ed208"
      },
      "execution_count": null,
      "outputs": [
        {
          "output_type": "stream",
          "name": "stdout",
          "text": [
            "MLP Score: 0.3333333333333333\n",
            "Time taken to train and test the set is 0.017847061157226562\n"
          ]
        },
        {
          "output_type": "stream",
          "name": "stderr",
          "text": [
            "/usr/local/lib/python3.8/dist-packages/sklearn/neural_network/_multilayer_perceptron.py:692: ConvergenceWarning: Stochastic Optimizer: Maximum iterations (10) reached and the optimization hasn't converged yet.\n",
            "  warnings.warn(\n"
          ]
        }
      ]
    },
    {
      "cell_type": "code",
      "source": [
        "confusion_matrix(y_test,pred)"
      ],
      "metadata": {
        "colab": {
          "base_uri": "https://localhost:8080/"
        },
        "id": "s0dp3r8LmBO_",
        "outputId": "317f2c08-785f-439e-caaa-f7b4f1999b54"
      },
      "execution_count": null,
      "outputs": [
        {
          "output_type": "execute_result",
          "data": {
            "text/plain": [
              "array([[0, 4],\n",
              "       [0, 2]])"
            ]
          },
          "metadata": {},
          "execution_count": 37
        }
      ]
    },
    {
      "cell_type": "code",
      "source": [
        "print(classification_report(y_test,pred))"
      ],
      "metadata": {
        "colab": {
          "base_uri": "https://localhost:8080/"
        },
        "id": "13f5gESJmMl-",
        "outputId": "aedabc0a-86b8-4cf8-b7a1-dcad2c3a4942"
      },
      "execution_count": null,
      "outputs": [
        {
          "output_type": "stream",
          "name": "stdout",
          "text": [
            "              precision    recall  f1-score   support\n",
            "\n",
            "        High       0.00      0.00      0.00         4\n",
            "         Low       0.33      1.00      0.50         2\n",
            "\n",
            "    accuracy                           0.33         6\n",
            "   macro avg       0.17      0.50      0.25         6\n",
            "weighted avg       0.11      0.33      0.17         6\n",
            "\n"
          ]
        },
        {
          "output_type": "stream",
          "name": "stderr",
          "text": [
            "/usr/local/lib/python3.8/dist-packages/sklearn/metrics/_classification.py:1318: UndefinedMetricWarning: Precision and F-score are ill-defined and being set to 0.0 in labels with no predicted samples. Use `zero_division` parameter to control this behavior.\n",
            "  _warn_prf(average, modifier, msg_start, len(result))\n",
            "/usr/local/lib/python3.8/dist-packages/sklearn/metrics/_classification.py:1318: UndefinedMetricWarning: Precision and F-score are ill-defined and being set to 0.0 in labels with no predicted samples. Use `zero_division` parameter to control this behavior.\n",
            "  _warn_prf(average, modifier, msg_start, len(result))\n",
            "/usr/local/lib/python3.8/dist-packages/sklearn/metrics/_classification.py:1318: UndefinedMetricWarning: Precision and F-score are ill-defined and being set to 0.0 in labels with no predicted samples. Use `zero_division` parameter to control this behavior.\n",
            "  _warn_prf(average, modifier, msg_start, len(result))\n"
          ]
        }
      ]
    },
    {
      "cell_type": "code",
      "source": [
        "from sklearn.pipeline import make_pipeline\n",
        "from sklearn.preprocessing import StandardScaler\n",
        "from sklearn.metrics import accuracy_score\n",
        "\n",
        "import numpy as np\n",
        "import pandas as pd\n",
        "from sklearn.svm import SVC\n",
        "\n",
        "clf = SVC()\n",
        "print('clf fit : \\n',clf.fit(x_train,y_train))\n",
        "print('clf support_vectors : \\n',clf.support_vectors_)"
      ],
      "metadata": {
        "colab": {
          "base_uri": "https://localhost:8080/"
        },
        "id": "Odky78m4mX0Q",
        "outputId": "cc28c0c0-248f-40c4-b99b-51663aa0e1b3"
      },
      "execution_count": null,
      "outputs": [
        {
          "output_type": "stream",
          "name": "stdout",
          "text": [
            "clf fit : \n",
            " SVC()\n",
            "clf support_vectors : \n",
            " [[0.000000e+00 2.004000e+04 3.078000e+03 2.220000e+03 1.759400e+04\n",
            "  1.943900e+04 1.526700e+04 3.971000e+03 6.438000e+03 1.785600e+04\n",
            "  5.588620e+05]\n",
            " [2.800000e+01 3.971900e+04 5.477000e+03 3.420000e+03 2.975700e+04\n",
            "  3.843900e+04 1.448600e+04 1.232300e+04 9.468000e+03 3.379700e+04\n",
            "  6.592880e+05]\n",
            " [2.400000e+01 1.578700e+04 1.889000e+03 1.183000e+03 1.427400e+04\n",
            "  1.526200e+04 1.154600e+04 1.931000e+03 5.126000e+03 1.470100e+04\n",
            "  5.444410e+05]\n",
            " [1.200000e+01 1.596000e+03 1.447000e+03 1.322000e+03 1.593000e+03\n",
            "  1.596000e+03 1.558000e+03 1.339000e+03 1.442000e+03 1.576000e+03\n",
            "  5.107870e+05]\n",
            " [1.400000e+01 4.373500e+04 5.341000e+03 3.475000e+03 3.573700e+04\n",
            "  4.118100e+04 2.262500e+04 8.806000e+03 1.578200e+04 3.942400e+04\n",
            "  1.728578e+06]\n",
            " [3.000000e+00 4.526500e+04 7.523000e+03 3.619000e+03 3.450500e+04\n",
            "  4.253600e+04 2.327100e+04 1.836800e+04 2.073400e+04 3.576800e+04\n",
            "  3.455450e+05]\n",
            " [1.900000e+01 4.927200e+04 4.008000e+03 2.772000e+03 3.510300e+04\n",
            "  4.576000e+04 2.176900e+04 1.066500e+04 1.679500e+04 3.950700e+04\n",
            "  3.383390e+05]\n",
            " [4.000000e+00 1.989800e+04 1.373000e+03 6.640000e+02 1.076800e+04\n",
            "  1.847900e+04 1.176000e+04 6.836000e+03 1.083100e+04 1.873000e+04\n",
            "  2.092110e+05]\n",
            " [2.000000e+01 1.468500e+04 2.600000e+03 1.952000e+03 1.200700e+04\n",
            "  1.447700e+04 6.230000e+03 3.246000e+03 5.504000e+03 1.263800e+04\n",
            "  3.539420e+05]]\n"
          ]
        }
      ]
    },
    {
      "cell_type": "code",
      "source": [
        "import time\n",
        "t0 = time.time()\n",
        "clf.fit(x_train,y_train)\n",
        "clf.score(x_test,y_test)\n",
        "print('SVM Score:',clf.score(x_test,y_test))\n",
        "t1 = time.time()\n",
        "print(\"Time taken to train and test the set is\", t1-t0)"
      ],
      "metadata": {
        "colab": {
          "base_uri": "https://localhost:8080/"
        },
        "id": "5CuNMBuimdpn",
        "outputId": "0cb5f020-7206-4094-cbac-42d7bef3ba7e"
      },
      "execution_count": null,
      "outputs": [
        {
          "output_type": "stream",
          "name": "stdout",
          "text": [
            "SVM Score: 1.0\n",
            "Time taken to train and test the set is 0.009881734848022461\n"
          ]
        }
      ]
    },
    {
      "cell_type": "code",
      "source": [
        "print('clf score :',clf.score(x_train,y_train))"
      ],
      "metadata": {
        "colab": {
          "base_uri": "https://localhost:8080/"
        },
        "id": "nl3Izr1tmn0E",
        "outputId": "7838c03d-f66b-4bd4-8b0e-03db5b8d6809"
      },
      "execution_count": null,
      "outputs": [
        {
          "output_type": "stream",
          "name": "stdout",
          "text": [
            "clf score : 1.0\n"
          ]
        }
      ]
    },
    {
      "cell_type": "code",
      "source": [
        "prediction=clf.predict(x_test)\n",
        "prediction"
      ],
      "metadata": {
        "colab": {
          "base_uri": "https://localhost:8080/"
        },
        "id": "aQe6CiBtmrFE",
        "outputId": "4e4c1ef2-fc38-4f5c-b476-298d583359fd"
      },
      "execution_count": null,
      "outputs": [
        {
          "output_type": "execute_result",
          "data": {
            "text/plain": [
              "array(['Low', 'High', 'High', 'Low', 'High', 'High'], dtype=object)"
            ]
          },
          "metadata": {},
          "execution_count": 42
        }
      ]
    },
    {
      "cell_type": "code",
      "source": [
        "accuracy_score(y_test,prediction)*100"
      ],
      "metadata": {
        "colab": {
          "base_uri": "https://localhost:8080/"
        },
        "id": "KuL_KFhCmtuL",
        "outputId": "59c0a636-8f67-42f9-f5e5-59660d3da8fa"
      },
      "execution_count": null,
      "outputs": [
        {
          "output_type": "execute_result",
          "data": {
            "text/plain": [
              "100.0"
            ]
          },
          "metadata": {},
          "execution_count": 43
        }
      ]
    },
    {
      "cell_type": "code",
      "source": [
        "import numpy as np\n",
        "import pandas as pd\n",
        "from sklearn.svm import SVC\n",
        "from sklearn.model_selection import train_test_split\n",
        "df=pd.read_excel('Output.xlsx')\n",
        "x=df.drop(['classify'],axis=1)\n",
        "y=df['classify']\n",
        "train_features,test_features,train_labels,test_labels= train_test_split(x, y, test_size=0.33)\n",
        "\n",
        "\n",
        "clf = SVC()\n",
        "print('clf fit : \\n',clf.fit(train_features,train_labels))\n",
        "print('clf support_vectors : \\n',clf.support_vectors_)"
      ],
      "metadata": {
        "colab": {
          "base_uri": "https://localhost:8080/"
        },
        "id": "Mz-cmZx_nKBP",
        "outputId": "f4ba3db7-451f-4444-e189-2b2bcb27c843"
      },
      "execution_count": null,
      "outputs": [
        {
          "output_type": "stream",
          "name": "stdout",
          "text": [
            "clf fit : \n",
            " SVC()\n",
            "clf support_vectors : \n",
            " [[2.800000e+01 3.971900e+04 5.477000e+03 3.420000e+03 2.975700e+04\n",
            "  3.843900e+04 1.448600e+04 1.232300e+04 9.468000e+03 3.379700e+04\n",
            "  6.592880e+05]\n",
            " [7.000000e+00 7.500000e+03 1.814000e+03 8.840000e+02 6.052000e+03\n",
            "  7.424000e+03 4.792000e+03 1.097000e+03 4.712000e+03 7.127000e+03\n",
            "  4.703280e+05]\n",
            " [1.200000e+01 1.596000e+03 1.447000e+03 1.322000e+03 1.593000e+03\n",
            "  1.596000e+03 1.558000e+03 1.339000e+03 1.442000e+03 1.576000e+03\n",
            "  5.107870e+05]\n",
            " [2.300000e+01 1.773300e+04 4.450000e+03 3.535000e+03 1.553000e+04\n",
            "  1.722700e+04 1.519900e+04 3.504000e+03 8.093000e+03 1.598400e+04\n",
            "  1.071602e+06]\n",
            " [2.000000e+01 1.468500e+04 2.600000e+03 1.952000e+03 1.200700e+04\n",
            "  1.447700e+04 6.230000e+03 3.246000e+03 5.504000e+03 1.263800e+04\n",
            "  3.539420e+05]\n",
            " [3.000000e+00 4.526500e+04 7.523000e+03 3.619000e+03 3.450500e+04\n",
            "  4.253600e+04 2.327100e+04 1.836800e+04 2.073400e+04 3.576800e+04\n",
            "  3.455450e+05]\n",
            " [4.000000e+00 1.989800e+04 1.373000e+03 6.640000e+02 1.076800e+04\n",
            "  1.847900e+04 1.176000e+04 6.836000e+03 1.083100e+04 1.873000e+04\n",
            "  2.092110e+05]]\n"
          ]
        }
      ]
    },
    {
      "cell_type": "code",
      "source": [
        "#RBF\n",
        "\n",
        "clf = SVC(kernel ='rbf', random_state = 0)\n",
        "clf.fit(train_features,train_labels)\n",
        "print('clf support vectors : \\n',clf.support_vectors_)\n",
        "print('clf score  : \\n',clf.score(test_features,test_labels))\n",
        "print('clf predict : \\n',clf.predict(test_features))"
      ],
      "metadata": {
        "colab": {
          "base_uri": "https://localhost:8080/"
        },
        "id": "zgMVKwTCmzH2",
        "outputId": "61defa6c-2c53-474d-e99a-d74f2fce1b2a"
      },
      "execution_count": null,
      "outputs": [
        {
          "output_type": "stream",
          "name": "stdout",
          "text": [
            "clf support vectors : \n",
            " [[2.800000e+01 3.971900e+04 5.477000e+03 3.420000e+03 2.975700e+04\n",
            "  3.843900e+04 1.448600e+04 1.232300e+04 9.468000e+03 3.379700e+04\n",
            "  6.592880e+05]\n",
            " [7.000000e+00 7.500000e+03 1.814000e+03 8.840000e+02 6.052000e+03\n",
            "  7.424000e+03 4.792000e+03 1.097000e+03 4.712000e+03 7.127000e+03\n",
            "  4.703280e+05]\n",
            " [1.200000e+01 1.596000e+03 1.447000e+03 1.322000e+03 1.593000e+03\n",
            "  1.596000e+03 1.558000e+03 1.339000e+03 1.442000e+03 1.576000e+03\n",
            "  5.107870e+05]\n",
            " [2.300000e+01 1.773300e+04 4.450000e+03 3.535000e+03 1.553000e+04\n",
            "  1.722700e+04 1.519900e+04 3.504000e+03 8.093000e+03 1.598400e+04\n",
            "  1.071602e+06]\n",
            " [2.000000e+01 1.468500e+04 2.600000e+03 1.952000e+03 1.200700e+04\n",
            "  1.447700e+04 6.230000e+03 3.246000e+03 5.504000e+03 1.263800e+04\n",
            "  3.539420e+05]\n",
            " [3.000000e+00 4.526500e+04 7.523000e+03 3.619000e+03 3.450500e+04\n",
            "  4.253600e+04 2.327100e+04 1.836800e+04 2.073400e+04 3.576800e+04\n",
            "  3.455450e+05]\n",
            " [4.000000e+00 1.989800e+04 1.373000e+03 6.640000e+02 1.076800e+04\n",
            "  1.847900e+04 1.176000e+04 6.836000e+03 1.083100e+04 1.873000e+04\n",
            "  2.092110e+05]]\n",
            "clf score  : \n",
            " 1.0\n",
            "clf predict : \n",
            " ['High' 'Low' 'Low' 'High' 'High' 'High' 'High' 'Low' 'Low' 'High']\n"
          ]
        }
      ]
    },
    {
      "cell_type": "code",
      "source": [
        "## SIGMOID\n",
        "\n",
        "clf = SVC(kernel ='sigmoid')\n",
        "clf.fit(train_features,train_labels)\n",
        "print('clf support vectors : \\n',clf.support_vectors_)\n",
        "print('clf score  : \\n',clf.score(test_features,test_labels))\n",
        "print('clf predict : \\n',clf.predict(test_features))"
      ],
      "metadata": {
        "colab": {
          "base_uri": "https://localhost:8080/"
        },
        "id": "pA_Yvo8unOF6",
        "outputId": "25a59df0-23c3-406f-ecb6-7bc3803fa921"
      },
      "execution_count": null,
      "outputs": [
        {
          "output_type": "stream",
          "name": "stdout",
          "text": [
            "clf support vectors : \n",
            " [[2.600000e+01 1.040310e+05 8.817000e+03 4.570000e+03 5.172800e+04\n",
            "  1.001610e+05 6.530400e+04 2.245800e+04 4.191100e+04 6.677600e+04\n",
            "  9.491840e+05]\n",
            " [2.800000e+01 3.971900e+04 5.477000e+03 3.420000e+03 2.975700e+04\n",
            "  3.843900e+04 1.448600e+04 1.232300e+04 9.468000e+03 3.379700e+04\n",
            "  6.592880e+05]\n",
            " [7.000000e+00 7.500000e+03 1.814000e+03 8.840000e+02 6.052000e+03\n",
            "  7.424000e+03 4.792000e+03 1.097000e+03 4.712000e+03 7.127000e+03\n",
            "  4.703280e+05]\n",
            " [1.200000e+01 1.596000e+03 1.447000e+03 1.322000e+03 1.593000e+03\n",
            "  1.596000e+03 1.558000e+03 1.339000e+03 1.442000e+03 1.576000e+03\n",
            "  5.107870e+05]\n",
            " [2.300000e+01 1.773300e+04 4.450000e+03 3.535000e+03 1.553000e+04\n",
            "  1.722700e+04 1.519900e+04 3.504000e+03 8.093000e+03 1.598400e+04\n",
            "  1.071602e+06]\n",
            " [6.000000e+00 1.839100e+04 5.786000e+03 4.899000e+03 1.810400e+04\n",
            "  1.833100e+04 1.532400e+04 1.315600e+04 9.649000e+03 1.794800e+04\n",
            "  1.034399e+06]\n",
            " [2.000000e+01 1.468500e+04 2.600000e+03 1.952000e+03 1.200700e+04\n",
            "  1.447700e+04 6.230000e+03 3.246000e+03 5.504000e+03 1.263800e+04\n",
            "  3.539420e+05]\n",
            " [1.000000e+01 3.121200e+04 2.561000e+03 1.288000e+03 1.539100e+04\n",
            "  2.897700e+04 1.096800e+04 8.670000e+03 9.822000e+03 2.204300e+04\n",
            "  2.087010e+05]\n",
            " [3.000000e+00 4.526500e+04 7.523000e+03 3.619000e+03 3.450500e+04\n",
            "  4.253600e+04 2.327100e+04 1.836800e+04 2.073400e+04 3.576800e+04\n",
            "  3.455450e+05]\n",
            " [2.000000e+00 2.637200e+04 1.867000e+03 1.073000e+03 1.686700e+04\n",
            "  2.376500e+04 1.245200e+04 8.828000e+03 7.363000e+03 2.148500e+04\n",
            "  2.046270e+05]\n",
            " [9.000000e+00 7.646000e+03 9.970000e+02 7.940000e+02 6.073000e+03\n",
            "  7.461000e+03 4.816000e+03 2.189000e+03 5.074000e+03 7.072000e+03\n",
            "  9.307200e+04]\n",
            " [4.000000e+00 1.989800e+04 1.373000e+03 6.640000e+02 1.076800e+04\n",
            "  1.847900e+04 1.176000e+04 6.836000e+03 1.083100e+04 1.873000e+04\n",
            "  2.092110e+05]]\n",
            "clf score  : \n",
            " 0.6\n",
            "clf predict : \n",
            " ['Low' 'Low' 'High' 'High' 'High' 'Low' 'High' 'High' 'Low' 'High']\n"
          ]
        }
      ]
    },
    {
      "cell_type": "code",
      "source": [
        "## Polynomial Kernel \n",
        "\n",
        "clf = SVC(kernel ='poly', degree = 4)\n",
        "clf.fit(train_features,train_labels)\n",
        "print('clf support vectors : \\n',clf.support_vectors_)\n",
        "print('clf score  : \\n',clf.score(test_features,test_labels))\n",
        "print('clf predict : \\n',clf.predict(test_features))"
      ],
      "metadata": {
        "colab": {
          "base_uri": "https://localhost:8080/"
        },
        "id": "9DFIWEi7nUTd",
        "outputId": "46edf507-cb4f-4d2c-8434-abefd05a6cbb"
      },
      "execution_count": null,
      "outputs": [
        {
          "output_type": "stream",
          "name": "stdout",
          "text": [
            "clf support vectors : \n",
            " [[7.00000e+00 7.50000e+03 1.81400e+03 8.84000e+02 6.05200e+03 7.42400e+03\n",
            "  4.79200e+03 1.09700e+03 4.71200e+03 7.12700e+03 4.70328e+05]\n",
            " [1.20000e+01 1.59600e+03 1.44700e+03 1.32200e+03 1.59300e+03 1.59600e+03\n",
            "  1.55800e+03 1.33900e+03 1.44200e+03 1.57600e+03 5.10787e+05]\n",
            " [2.00000e+01 1.46850e+04 2.60000e+03 1.95200e+03 1.20070e+04 1.44770e+04\n",
            "  6.23000e+03 3.24600e+03 5.50400e+03 1.26380e+04 3.53942e+05]\n",
            " [3.00000e+00 4.52650e+04 7.52300e+03 3.61900e+03 3.45050e+04 4.25360e+04\n",
            "  2.32710e+04 1.83680e+04 2.07340e+04 3.57680e+04 3.45545e+05]]\n",
            "clf score  : \n",
            " 1.0\n",
            "clf predict : \n",
            " ['High' 'Low' 'Low' 'High' 'High' 'High' 'High' 'Low' 'Low' 'High']\n"
          ]
        }
      ]
    },
    {
      "cell_type": "code",
      "source": [
        "## Linear Kernel: \n",
        "\n",
        "clf = SVC(kernel ='linear')\n",
        "clf.fit(train_features,train_labels)\n",
        "print('clf support vectors : \\n',clf.support_vectors_)\n",
        "print('clf score  : \\n',clf.score(test_features,test_labels))\n",
        "print('clf predict : \\n',clf.predict(test_features))"
      ],
      "metadata": {
        "colab": {
          "base_uri": "https://localhost:8080/"
        },
        "id": "svWYGcKanUtG",
        "outputId": "754e846b-0a43-4b6b-d548-668494b8fa46"
      },
      "execution_count": null,
      "outputs": [
        {
          "output_type": "stream",
          "name": "stdout",
          "text": [
            "clf support vectors : \n",
            " [[7.00000e+00 7.50000e+03 1.81400e+03 8.84000e+02 6.05200e+03 7.42400e+03\n",
            "  4.79200e+03 1.09700e+03 4.71200e+03 7.12700e+03 4.70328e+05]\n",
            " [2.00000e+01 1.46850e+04 2.60000e+03 1.95200e+03 1.20070e+04 1.44770e+04\n",
            "  6.23000e+03 3.24600e+03 5.50400e+03 1.26380e+04 3.53942e+05]]\n",
            "clf score  : \n",
            " 1.0\n",
            "clf predict : \n",
            " ['High' 'Low' 'Low' 'High' 'High' 'High' 'High' 'Low' 'Low' 'High']\n"
          ]
        }
      ]
    },
    {
      "cell_type": "code",
      "source": [
        "import time\n",
        "clf = SVC()\n",
        "t0 = time.time()\n",
        "clf.fit(train_features,train_labels)\n",
        "clf.score(test_features,test_labels)\n",
        "t1 = time.time()\n",
        "print(\"Time taken to train and test the set is\", t1-t0)"
      ],
      "metadata": {
        "colab": {
          "base_uri": "https://localhost:8080/"
        },
        "id": "oGYQkD5SnW80",
        "outputId": "7a29a49c-6560-4041-a2f6-93508b306fed"
      },
      "execution_count": null,
      "outputs": [
        {
          "output_type": "stream",
          "name": "stdout",
          "text": [
            "Time taken to train and test the set is 0.008322954177856445\n"
          ]
        }
      ]
    },
    {
      "cell_type": "code",
      "source": [
        "dp = pd.read_excel('/content/Output.xlsx')\n",
        "dp"
      ],
      "metadata": {
        "colab": {
          "base_uri": "https://localhost:8080/",
          "height": 1000
        },
        "id": "edRb33URnZDL",
        "outputId": "a288ce3c-93f8-40b3-bc47-defdfa8f0bc5"
      },
      "execution_count": null,
      "outputs": [
        {
          "output_type": "execute_result",
          "data": {
            "text/plain": [
              "    State Name  No. OfVillagesWhere SurveyCompleted  banks   ATM  \\\n",
              "0            0                                20040   3078  2220   \n",
              "1            1                                 4623     96    57   \n",
              "2            2                                26372   1867  1073   \n",
              "3            3                                45265   7523  3619   \n",
              "4            4                                19898   1373   664   \n",
              "5            5                                  403    176   158   \n",
              "6            6                                18391   5786  4899   \n",
              "7            7                                 7500   1814   884   \n",
              "8            8                                19602   1401  1022   \n",
              "9            9                                 7646    997   794   \n",
              "10          10                                31212   2561  1288   \n",
              "11          11                                32132   4153  2629   \n",
              "12          12                                 1596   1447  1322   \n",
              "13          13                                52688   3847  1625   \n",
              "14          14                                43735   5341  3475   \n",
              "15          15                                 3368    115   108   \n",
              "16          16                                 6156    274   161   \n",
              "17          17                                  838     98    48   \n",
              "18          18                                 1234     35    32   \n",
              "19          19                                49272   4008  2772   \n",
              "20          20                                14685   2600  1952   \n",
              "21          21                                45692   3883  2861   \n",
              "22          22                                  456     73    52   \n",
              "23          23                                17733   4450  3535   \n",
              "24          24                                15787   1889  1183   \n",
              "25          25                                 1656    315   145   \n",
              "26          26                               104031   8817  4570   \n",
              "27          27                                15848    850   512   \n",
              "28          28                                39719   5477  3420   \n",
              "\n",
              "    Public Transport  electricity for domestic use (in Hrs)   \\\n",
              "0              17594                                   19439   \n",
              "1               1249                                    3473   \n",
              "2              16867                                   23765   \n",
              "3              34505                                   42536   \n",
              "4              10768                                   18479   \n",
              "5                371                                     391   \n",
              "6              18104                                   18331   \n",
              "7               6052                                    7424   \n",
              "8              14805                                   18278   \n",
              "9               6073                                    7461   \n",
              "10             15391                                   28977   \n",
              "11             27458                                   30476   \n",
              "12              1593                                    1596   \n",
              "13             33792                                   51269   \n",
              "14             35737                                   41181   \n",
              "15              1953                                    2778   \n",
              "16              3408                                    5363   \n",
              "17               471                                     767   \n",
              "18               545                                    1172   \n",
              "19             35103                                   45760   \n",
              "20             12007                                   14477   \n",
              "21             28563                                   44609   \n",
              "22               388                                     425   \n",
              "23             15530                                   17227   \n",
              "24             14274                                   15262   \n",
              "25              1485                                    1622   \n",
              "26             51728                                  100161   \n",
              "27             10124                                   15356   \n",
              "28             29757                                   38439   \n",
              "\n",
              "    Public Distribution System(PDS)  markets  Middle School  \\\n",
              "0                             15267     3971           6438   \n",
              "1                              1952      431            780   \n",
              "2                             12452     8828           7363   \n",
              "3                             23271    18368          20734   \n",
              "4                             11760     6836          10831   \n",
              "5                               236       78            170   \n",
              "6                             15324    13156           9649   \n",
              "7                              4792     1097           4712   \n",
              "8                              7294     2255           4035   \n",
              "9                              4816     2189           5074   \n",
              "10                            10968     8670           9822   \n",
              "11                            11436     5147          14259   \n",
              "12                             1558     1339           1442   \n",
              "13                            19659     8312          26344   \n",
              "14                            22625     8806          15782   \n",
              "15                             1842      506            483   \n",
              "16                             2596     2047           2388   \n",
              "17                              634      259            707   \n",
              "18                              684      190            552   \n",
              "19                            21769    10665          16795   \n",
              "20                             6230     3246           5504   \n",
              "21                            14694     5981          19811   \n",
              "22                              296       88            186   \n",
              "23                            15199     3504           8093   \n",
              "24                            11546     1931           5126   \n",
              "25                             1201      997           1047   \n",
              "26                            65304    22458          41911   \n",
              "27                             6547     1953           4120   \n",
              "28                            14486    12323           9468   \n",
              "\n",
              "    Aanganwadi Centre     NSDP classify  \n",
              "0               17856   558862     High  \n",
              "1                3008    14897      Low  \n",
              "2               21485   204627      Low  \n",
              "3               35768   345545      Low  \n",
              "4               18730   209211      Low  \n",
              "5                 331    47425      Low  \n",
              "6               17948  1034399     High  \n",
              "7                7127   470328     High  \n",
              "8               12451    99218      Low  \n",
              "9                7072    93072      Low  \n",
              "10              22043   208701      Low  \n",
              "11              27120   974815     High  \n",
              "12               1576   510787     High  \n",
              "13              46128   482361     High  \n",
              "14              39424  1728578     High  \n",
              "15               2587    16193      Low  \n",
              "16               3819    20968      Low  \n",
              "17                805    14116      Low  \n",
              "18               1138    15055      Low  \n",
              "19              39507   338339      Low  \n",
              "20              12638   353942      Low  \n",
              "21              36177   568102     High  \n",
              "22                414    15889      Low  \n",
              "23              15984  1071602     High  \n",
              "24              14701   544441     High  \n",
              "25               1587    32703      Low  \n",
              "26              66776   949184     High  \n",
              "27              10357   166519      Low  \n",
              "28              33797   659288     High  "
            ],
            "text/html": [
              "\n",
              "  <div id=\"df-63a31ec4-0210-46d0-982a-b60c9181ddb8\">\n",
              "    <div class=\"colab-df-container\">\n",
              "      <div>\n",
              "<style scoped>\n",
              "    .dataframe tbody tr th:only-of-type {\n",
              "        vertical-align: middle;\n",
              "    }\n",
              "\n",
              "    .dataframe tbody tr th {\n",
              "        vertical-align: top;\n",
              "    }\n",
              "\n",
              "    .dataframe thead th {\n",
              "        text-align: right;\n",
              "    }\n",
              "</style>\n",
              "<table border=\"1\" class=\"dataframe\">\n",
              "  <thead>\n",
              "    <tr style=\"text-align: right;\">\n",
              "      <th></th>\n",
              "      <th>State Name</th>\n",
              "      <th>No. OfVillagesWhere SurveyCompleted</th>\n",
              "      <th>banks</th>\n",
              "      <th>ATM</th>\n",
              "      <th>Public Transport</th>\n",
              "      <th>electricity for domestic use (in Hrs)</th>\n",
              "      <th>Public Distribution System(PDS)</th>\n",
              "      <th>markets</th>\n",
              "      <th>Middle School</th>\n",
              "      <th>Aanganwadi Centre</th>\n",
              "      <th>NSDP</th>\n",
              "      <th>classify</th>\n",
              "    </tr>\n",
              "  </thead>\n",
              "  <tbody>\n",
              "    <tr>\n",
              "      <th>0</th>\n",
              "      <td>0</td>\n",
              "      <td>20040</td>\n",
              "      <td>3078</td>\n",
              "      <td>2220</td>\n",
              "      <td>17594</td>\n",
              "      <td>19439</td>\n",
              "      <td>15267</td>\n",
              "      <td>3971</td>\n",
              "      <td>6438</td>\n",
              "      <td>17856</td>\n",
              "      <td>558862</td>\n",
              "      <td>High</td>\n",
              "    </tr>\n",
              "    <tr>\n",
              "      <th>1</th>\n",
              "      <td>1</td>\n",
              "      <td>4623</td>\n",
              "      <td>96</td>\n",
              "      <td>57</td>\n",
              "      <td>1249</td>\n",
              "      <td>3473</td>\n",
              "      <td>1952</td>\n",
              "      <td>431</td>\n",
              "      <td>780</td>\n",
              "      <td>3008</td>\n",
              "      <td>14897</td>\n",
              "      <td>Low</td>\n",
              "    </tr>\n",
              "    <tr>\n",
              "      <th>2</th>\n",
              "      <td>2</td>\n",
              "      <td>26372</td>\n",
              "      <td>1867</td>\n",
              "      <td>1073</td>\n",
              "      <td>16867</td>\n",
              "      <td>23765</td>\n",
              "      <td>12452</td>\n",
              "      <td>8828</td>\n",
              "      <td>7363</td>\n",
              "      <td>21485</td>\n",
              "      <td>204627</td>\n",
              "      <td>Low</td>\n",
              "    </tr>\n",
              "    <tr>\n",
              "      <th>3</th>\n",
              "      <td>3</td>\n",
              "      <td>45265</td>\n",
              "      <td>7523</td>\n",
              "      <td>3619</td>\n",
              "      <td>34505</td>\n",
              "      <td>42536</td>\n",
              "      <td>23271</td>\n",
              "      <td>18368</td>\n",
              "      <td>20734</td>\n",
              "      <td>35768</td>\n",
              "      <td>345545</td>\n",
              "      <td>Low</td>\n",
              "    </tr>\n",
              "    <tr>\n",
              "      <th>4</th>\n",
              "      <td>4</td>\n",
              "      <td>19898</td>\n",
              "      <td>1373</td>\n",
              "      <td>664</td>\n",
              "      <td>10768</td>\n",
              "      <td>18479</td>\n",
              "      <td>11760</td>\n",
              "      <td>6836</td>\n",
              "      <td>10831</td>\n",
              "      <td>18730</td>\n",
              "      <td>209211</td>\n",
              "      <td>Low</td>\n",
              "    </tr>\n",
              "    <tr>\n",
              "      <th>5</th>\n",
              "      <td>5</td>\n",
              "      <td>403</td>\n",
              "      <td>176</td>\n",
              "      <td>158</td>\n",
              "      <td>371</td>\n",
              "      <td>391</td>\n",
              "      <td>236</td>\n",
              "      <td>78</td>\n",
              "      <td>170</td>\n",
              "      <td>331</td>\n",
              "      <td>47425</td>\n",
              "      <td>Low</td>\n",
              "    </tr>\n",
              "    <tr>\n",
              "      <th>6</th>\n",
              "      <td>6</td>\n",
              "      <td>18391</td>\n",
              "      <td>5786</td>\n",
              "      <td>4899</td>\n",
              "      <td>18104</td>\n",
              "      <td>18331</td>\n",
              "      <td>15324</td>\n",
              "      <td>13156</td>\n",
              "      <td>9649</td>\n",
              "      <td>17948</td>\n",
              "      <td>1034399</td>\n",
              "      <td>High</td>\n",
              "    </tr>\n",
              "    <tr>\n",
              "      <th>7</th>\n",
              "      <td>7</td>\n",
              "      <td>7500</td>\n",
              "      <td>1814</td>\n",
              "      <td>884</td>\n",
              "      <td>6052</td>\n",
              "      <td>7424</td>\n",
              "      <td>4792</td>\n",
              "      <td>1097</td>\n",
              "      <td>4712</td>\n",
              "      <td>7127</td>\n",
              "      <td>470328</td>\n",
              "      <td>High</td>\n",
              "    </tr>\n",
              "    <tr>\n",
              "      <th>8</th>\n",
              "      <td>8</td>\n",
              "      <td>19602</td>\n",
              "      <td>1401</td>\n",
              "      <td>1022</td>\n",
              "      <td>14805</td>\n",
              "      <td>18278</td>\n",
              "      <td>7294</td>\n",
              "      <td>2255</td>\n",
              "      <td>4035</td>\n",
              "      <td>12451</td>\n",
              "      <td>99218</td>\n",
              "      <td>Low</td>\n",
              "    </tr>\n",
              "    <tr>\n",
              "      <th>9</th>\n",
              "      <td>9</td>\n",
              "      <td>7646</td>\n",
              "      <td>997</td>\n",
              "      <td>794</td>\n",
              "      <td>6073</td>\n",
              "      <td>7461</td>\n",
              "      <td>4816</td>\n",
              "      <td>2189</td>\n",
              "      <td>5074</td>\n",
              "      <td>7072</td>\n",
              "      <td>93072</td>\n",
              "      <td>Low</td>\n",
              "    </tr>\n",
              "    <tr>\n",
              "      <th>10</th>\n",
              "      <td>10</td>\n",
              "      <td>31212</td>\n",
              "      <td>2561</td>\n",
              "      <td>1288</td>\n",
              "      <td>15391</td>\n",
              "      <td>28977</td>\n",
              "      <td>10968</td>\n",
              "      <td>8670</td>\n",
              "      <td>9822</td>\n",
              "      <td>22043</td>\n",
              "      <td>208701</td>\n",
              "      <td>Low</td>\n",
              "    </tr>\n",
              "    <tr>\n",
              "      <th>11</th>\n",
              "      <td>11</td>\n",
              "      <td>32132</td>\n",
              "      <td>4153</td>\n",
              "      <td>2629</td>\n",
              "      <td>27458</td>\n",
              "      <td>30476</td>\n",
              "      <td>11436</td>\n",
              "      <td>5147</td>\n",
              "      <td>14259</td>\n",
              "      <td>27120</td>\n",
              "      <td>974815</td>\n",
              "      <td>High</td>\n",
              "    </tr>\n",
              "    <tr>\n",
              "      <th>12</th>\n",
              "      <td>12</td>\n",
              "      <td>1596</td>\n",
              "      <td>1447</td>\n",
              "      <td>1322</td>\n",
              "      <td>1593</td>\n",
              "      <td>1596</td>\n",
              "      <td>1558</td>\n",
              "      <td>1339</td>\n",
              "      <td>1442</td>\n",
              "      <td>1576</td>\n",
              "      <td>510787</td>\n",
              "      <td>High</td>\n",
              "    </tr>\n",
              "    <tr>\n",
              "      <th>13</th>\n",
              "      <td>13</td>\n",
              "      <td>52688</td>\n",
              "      <td>3847</td>\n",
              "      <td>1625</td>\n",
              "      <td>33792</td>\n",
              "      <td>51269</td>\n",
              "      <td>19659</td>\n",
              "      <td>8312</td>\n",
              "      <td>26344</td>\n",
              "      <td>46128</td>\n",
              "      <td>482361</td>\n",
              "      <td>High</td>\n",
              "    </tr>\n",
              "    <tr>\n",
              "      <th>14</th>\n",
              "      <td>14</td>\n",
              "      <td>43735</td>\n",
              "      <td>5341</td>\n",
              "      <td>3475</td>\n",
              "      <td>35737</td>\n",
              "      <td>41181</td>\n",
              "      <td>22625</td>\n",
              "      <td>8806</td>\n",
              "      <td>15782</td>\n",
              "      <td>39424</td>\n",
              "      <td>1728578</td>\n",
              "      <td>High</td>\n",
              "    </tr>\n",
              "    <tr>\n",
              "      <th>15</th>\n",
              "      <td>15</td>\n",
              "      <td>3368</td>\n",
              "      <td>115</td>\n",
              "      <td>108</td>\n",
              "      <td>1953</td>\n",
              "      <td>2778</td>\n",
              "      <td>1842</td>\n",
              "      <td>506</td>\n",
              "      <td>483</td>\n",
              "      <td>2587</td>\n",
              "      <td>16193</td>\n",
              "      <td>Low</td>\n",
              "    </tr>\n",
              "    <tr>\n",
              "      <th>16</th>\n",
              "      <td>16</td>\n",
              "      <td>6156</td>\n",
              "      <td>274</td>\n",
              "      <td>161</td>\n",
              "      <td>3408</td>\n",
              "      <td>5363</td>\n",
              "      <td>2596</td>\n",
              "      <td>2047</td>\n",
              "      <td>2388</td>\n",
              "      <td>3819</td>\n",
              "      <td>20968</td>\n",
              "      <td>Low</td>\n",
              "    </tr>\n",
              "    <tr>\n",
              "      <th>17</th>\n",
              "      <td>17</td>\n",
              "      <td>838</td>\n",
              "      <td>98</td>\n",
              "      <td>48</td>\n",
              "      <td>471</td>\n",
              "      <td>767</td>\n",
              "      <td>634</td>\n",
              "      <td>259</td>\n",
              "      <td>707</td>\n",
              "      <td>805</td>\n",
              "      <td>14116</td>\n",
              "      <td>Low</td>\n",
              "    </tr>\n",
              "    <tr>\n",
              "      <th>18</th>\n",
              "      <td>18</td>\n",
              "      <td>1234</td>\n",
              "      <td>35</td>\n",
              "      <td>32</td>\n",
              "      <td>545</td>\n",
              "      <td>1172</td>\n",
              "      <td>684</td>\n",
              "      <td>190</td>\n",
              "      <td>552</td>\n",
              "      <td>1138</td>\n",
              "      <td>15055</td>\n",
              "      <td>Low</td>\n",
              "    </tr>\n",
              "    <tr>\n",
              "      <th>19</th>\n",
              "      <td>19</td>\n",
              "      <td>49272</td>\n",
              "      <td>4008</td>\n",
              "      <td>2772</td>\n",
              "      <td>35103</td>\n",
              "      <td>45760</td>\n",
              "      <td>21769</td>\n",
              "      <td>10665</td>\n",
              "      <td>16795</td>\n",
              "      <td>39507</td>\n",
              "      <td>338339</td>\n",
              "      <td>Low</td>\n",
              "    </tr>\n",
              "    <tr>\n",
              "      <th>20</th>\n",
              "      <td>20</td>\n",
              "      <td>14685</td>\n",
              "      <td>2600</td>\n",
              "      <td>1952</td>\n",
              "      <td>12007</td>\n",
              "      <td>14477</td>\n",
              "      <td>6230</td>\n",
              "      <td>3246</td>\n",
              "      <td>5504</td>\n",
              "      <td>12638</td>\n",
              "      <td>353942</td>\n",
              "      <td>Low</td>\n",
              "    </tr>\n",
              "    <tr>\n",
              "      <th>21</th>\n",
              "      <td>21</td>\n",
              "      <td>45692</td>\n",
              "      <td>3883</td>\n",
              "      <td>2861</td>\n",
              "      <td>28563</td>\n",
              "      <td>44609</td>\n",
              "      <td>14694</td>\n",
              "      <td>5981</td>\n",
              "      <td>19811</td>\n",
              "      <td>36177</td>\n",
              "      <td>568102</td>\n",
              "      <td>High</td>\n",
              "    </tr>\n",
              "    <tr>\n",
              "      <th>22</th>\n",
              "      <td>22</td>\n",
              "      <td>456</td>\n",
              "      <td>73</td>\n",
              "      <td>52</td>\n",
              "      <td>388</td>\n",
              "      <td>425</td>\n",
              "      <td>296</td>\n",
              "      <td>88</td>\n",
              "      <td>186</td>\n",
              "      <td>414</td>\n",
              "      <td>15889</td>\n",
              "      <td>Low</td>\n",
              "    </tr>\n",
              "    <tr>\n",
              "      <th>23</th>\n",
              "      <td>23</td>\n",
              "      <td>17733</td>\n",
              "      <td>4450</td>\n",
              "      <td>3535</td>\n",
              "      <td>15530</td>\n",
              "      <td>17227</td>\n",
              "      <td>15199</td>\n",
              "      <td>3504</td>\n",
              "      <td>8093</td>\n",
              "      <td>15984</td>\n",
              "      <td>1071602</td>\n",
              "      <td>High</td>\n",
              "    </tr>\n",
              "    <tr>\n",
              "      <th>24</th>\n",
              "      <td>24</td>\n",
              "      <td>15787</td>\n",
              "      <td>1889</td>\n",
              "      <td>1183</td>\n",
              "      <td>14274</td>\n",
              "      <td>15262</td>\n",
              "      <td>11546</td>\n",
              "      <td>1931</td>\n",
              "      <td>5126</td>\n",
              "      <td>14701</td>\n",
              "      <td>544441</td>\n",
              "      <td>High</td>\n",
              "    </tr>\n",
              "    <tr>\n",
              "      <th>25</th>\n",
              "      <td>25</td>\n",
              "      <td>1656</td>\n",
              "      <td>315</td>\n",
              "      <td>145</td>\n",
              "      <td>1485</td>\n",
              "      <td>1622</td>\n",
              "      <td>1201</td>\n",
              "      <td>997</td>\n",
              "      <td>1047</td>\n",
              "      <td>1587</td>\n",
              "      <td>32703</td>\n",
              "      <td>Low</td>\n",
              "    </tr>\n",
              "    <tr>\n",
              "      <th>26</th>\n",
              "      <td>26</td>\n",
              "      <td>104031</td>\n",
              "      <td>8817</td>\n",
              "      <td>4570</td>\n",
              "      <td>51728</td>\n",
              "      <td>100161</td>\n",
              "      <td>65304</td>\n",
              "      <td>22458</td>\n",
              "      <td>41911</td>\n",
              "      <td>66776</td>\n",
              "      <td>949184</td>\n",
              "      <td>High</td>\n",
              "    </tr>\n",
              "    <tr>\n",
              "      <th>27</th>\n",
              "      <td>27</td>\n",
              "      <td>15848</td>\n",
              "      <td>850</td>\n",
              "      <td>512</td>\n",
              "      <td>10124</td>\n",
              "      <td>15356</td>\n",
              "      <td>6547</td>\n",
              "      <td>1953</td>\n",
              "      <td>4120</td>\n",
              "      <td>10357</td>\n",
              "      <td>166519</td>\n",
              "      <td>Low</td>\n",
              "    </tr>\n",
              "    <tr>\n",
              "      <th>28</th>\n",
              "      <td>28</td>\n",
              "      <td>39719</td>\n",
              "      <td>5477</td>\n",
              "      <td>3420</td>\n",
              "      <td>29757</td>\n",
              "      <td>38439</td>\n",
              "      <td>14486</td>\n",
              "      <td>12323</td>\n",
              "      <td>9468</td>\n",
              "      <td>33797</td>\n",
              "      <td>659288</td>\n",
              "      <td>High</td>\n",
              "    </tr>\n",
              "  </tbody>\n",
              "</table>\n",
              "</div>\n",
              "      <button class=\"colab-df-convert\" onclick=\"convertToInteractive('df-63a31ec4-0210-46d0-982a-b60c9181ddb8')\"\n",
              "              title=\"Convert this dataframe to an interactive table.\"\n",
              "              style=\"display:none;\">\n",
              "        \n",
              "  <svg xmlns=\"http://www.w3.org/2000/svg\" height=\"24px\"viewBox=\"0 0 24 24\"\n",
              "       width=\"24px\">\n",
              "    <path d=\"M0 0h24v24H0V0z\" fill=\"none\"/>\n",
              "    <path d=\"M18.56 5.44l.94 2.06.94-2.06 2.06-.94-2.06-.94-.94-2.06-.94 2.06-2.06.94zm-11 1L8.5 8.5l.94-2.06 2.06-.94-2.06-.94L8.5 2.5l-.94 2.06-2.06.94zm10 10l.94 2.06.94-2.06 2.06-.94-2.06-.94-.94-2.06-.94 2.06-2.06.94z\"/><path d=\"M17.41 7.96l-1.37-1.37c-.4-.4-.92-.59-1.43-.59-.52 0-1.04.2-1.43.59L10.3 9.45l-7.72 7.72c-.78.78-.78 2.05 0 2.83L4 21.41c.39.39.9.59 1.41.59.51 0 1.02-.2 1.41-.59l7.78-7.78 2.81-2.81c.8-.78.8-2.07 0-2.86zM5.41 20L4 18.59l7.72-7.72 1.47 1.35L5.41 20z\"/>\n",
              "  </svg>\n",
              "      </button>\n",
              "      \n",
              "  <style>\n",
              "    .colab-df-container {\n",
              "      display:flex;\n",
              "      flex-wrap:wrap;\n",
              "      gap: 12px;\n",
              "    }\n",
              "\n",
              "    .colab-df-convert {\n",
              "      background-color: #E8F0FE;\n",
              "      border: none;\n",
              "      border-radius: 50%;\n",
              "      cursor: pointer;\n",
              "      display: none;\n",
              "      fill: #1967D2;\n",
              "      height: 32px;\n",
              "      padding: 0 0 0 0;\n",
              "      width: 32px;\n",
              "    }\n",
              "\n",
              "    .colab-df-convert:hover {\n",
              "      background-color: #E2EBFA;\n",
              "      box-shadow: 0px 1px 2px rgba(60, 64, 67, 0.3), 0px 1px 3px 1px rgba(60, 64, 67, 0.15);\n",
              "      fill: #174EA6;\n",
              "    }\n",
              "\n",
              "    [theme=dark] .colab-df-convert {\n",
              "      background-color: #3B4455;\n",
              "      fill: #D2E3FC;\n",
              "    }\n",
              "\n",
              "    [theme=dark] .colab-df-convert:hover {\n",
              "      background-color: #434B5C;\n",
              "      box-shadow: 0px 1px 3px 1px rgba(0, 0, 0, 0.15);\n",
              "      filter: drop-shadow(0px 1px 2px rgba(0, 0, 0, 0.3));\n",
              "      fill: #FFFFFF;\n",
              "    }\n",
              "  </style>\n",
              "\n",
              "      <script>\n",
              "        const buttonEl =\n",
              "          document.querySelector('#df-63a31ec4-0210-46d0-982a-b60c9181ddb8 button.colab-df-convert');\n",
              "        buttonEl.style.display =\n",
              "          google.colab.kernel.accessAllowed ? 'block' : 'none';\n",
              "\n",
              "        async function convertToInteractive(key) {\n",
              "          const element = document.querySelector('#df-63a31ec4-0210-46d0-982a-b60c9181ddb8');\n",
              "          const dataTable =\n",
              "            await google.colab.kernel.invokeFunction('convertToInteractive',\n",
              "                                                     [key], {});\n",
              "          if (!dataTable) return;\n",
              "\n",
              "          const docLinkHtml = 'Like what you see? Visit the ' +\n",
              "            '<a target=\"_blank\" href=https://colab.research.google.com/notebooks/data_table.ipynb>data table notebook</a>'\n",
              "            + ' to learn more about interactive tables.';\n",
              "          element.innerHTML = '';\n",
              "          dataTable['output_type'] = 'display_data';\n",
              "          await google.colab.output.renderOutput(dataTable, element);\n",
              "          const docLink = document.createElement('div');\n",
              "          docLink.innerHTML = docLinkHtml;\n",
              "          element.appendChild(docLink);\n",
              "        }\n",
              "      </script>\n",
              "    </div>\n",
              "  </div>\n",
              "  "
            ]
          },
          "metadata": {},
          "execution_count": 39
        }
      ]
    },
    {
      "cell_type": "code",
      "source": [
        "from sklearn.model_selection import train_test_split\n",
        "from sklearn.tree import DecisionTreeClassifier\n",
        "import matplotlib.pyplot as plt\n",
        "from sklearn.tree import plot_tree\n",
        "x_train,x_test,y_train,y_test=train_test_split(x,y,test_size=0.2)"
      ],
      "metadata": {
        "id": "169fR5don-__"
      },
      "execution_count": null,
      "outputs": []
    },
    {
      "cell_type": "code",
      "source": [
        "model = DecisionTreeClassifier()\n",
        "model = model.fit(x_train,y_train)\n",
        "print(\"Training data Set accuracy is =\",model.score(x_train, y_train))\n",
        "print(\"Test data Set Accuracy =\",model.score(x_test,y_test))"
      ],
      "metadata": {
        "colab": {
          "base_uri": "https://localhost:8080/"
        },
        "id": "41Xjdndhn_bX",
        "outputId": "490f9e56-6950-428d-e934-013c3828ec1d"
      },
      "execution_count": null,
      "outputs": [
        {
          "output_type": "stream",
          "name": "stdout",
          "text": [
            "Training data Set accuracy is = 1.0\n",
            "Test data Set Accuracy = 1.0\n"
          ]
        }
      ]
    },
    {
      "cell_type": "code",
      "source": [
        "model = DecisionTreeClassifier(max_depth=5)\n",
        "model = model.fit(x_train,y_train)\n",
        "model.score(x_test, y_test)"
      ],
      "metadata": {
        "colab": {
          "base_uri": "https://localhost:8080/"
        },
        "id": "wEiXWM2doMnr",
        "outputId": "421f65ca-3288-4d7c-e24c-b78db2adac0c"
      },
      "execution_count": null,
      "outputs": [
        {
          "output_type": "execute_result",
          "data": {
            "text/plain": [
              "1.0"
            ]
          },
          "metadata": {},
          "execution_count": 42
        }
      ]
    },
    {
      "cell_type": "code",
      "source": [
        "plt.figure(figsize=(70,20))\n",
        "plot_tree(model, filled=True)\n",
        "plt.show()"
      ],
      "metadata": {
        "colab": {
          "base_uri": "https://localhost:8080/",
          "height": 291
        },
        "id": "J4afVZEjoNHB",
        "outputId": "0b03a2f4-905d-458f-9d14-37d6c7ae00a2"
      },
      "execution_count": null,
      "outputs": [
        {
          "output_type": "display_data",
          "data": {
            "text/plain": [
              "<Figure size 5040x1440 with 1 Axes>"
            ],
            "image/png": "[encoded data removed]"
          },
          "metadata": {
            "needs_background": "light"
          }
        }
      ]
    },
    {
      "cell_type": "code",
      "source": [
        "model = DecisionTreeClassifier(criterion=\"entropy\")\n",
        "model = model.fit(x_train,y_train)\n",
        "model.score(x_test, y_test)"
      ],
      "metadata": {
        "colab": {
          "base_uri": "https://localhost:8080/"
        },
        "id": "1fmBObNcoO54",
        "outputId": "d231b7d2-be4e-4c44-f078-ece93158d368"
      },
      "execution_count": null,
      "outputs": [
        {
          "output_type": "execute_result",
          "data": {
            "text/plain": [
              "1.0"
            ]
          },
          "metadata": {},
          "execution_count": 44
        }
      ]
    },
    {
      "cell_type": "code",
      "source": [
        "plt.figure(figsize=(70,20))\n",
        "plot_tree(model, filled=True)\n",
        "plt.show()"
      ],
      "metadata": {
        "colab": {
          "base_uri": "https://localhost:8080/",
          "height": 291
        },
        "id": "4xoW5hrpoVQ7",
        "outputId": "198d50f3-064c-4479-cb61-9216847f885d"
      },
      "execution_count": null,
      "outputs": [
        {
          "output_type": "display_data",
          "data": {
            "text/plain": [
              "<Figure size 5040x1440 with 1 Axes>"
            ],
            "image/png": "[encoded data removed]"
          },
          "metadata": {
            "needs_background": "light"
          }
        }
      ]
    },
    {
      "cell_type": "code",
      "source": [
        "model = model.fit(x_train,y_train)\n",
        "print(\"Training data Set accuracy is =\",model.score(x_train, y_train))\n",
        "print(\"Test data Set Accuracy =\",model.score(x_test,y_test))"
      ],
      "metadata": {
        "colab": {
          "base_uri": "https://localhost:8080/"
        },
        "id": "C07I7nLRoYA6",
        "outputId": "7ed9447b-baea-4447-86e5-04ea3fde62df"
      },
      "execution_count": null,
      "outputs": [
        {
          "output_type": "stream",
          "name": "stdout",
          "text": [
            "Training data Set accuracy is = 1.0\n",
            "Test data Set Accuracy = 1.0\n"
          ]
        }
      ]
    },
    {
      "cell_type": "code",
      "source": [
        "from sklearn.model_selection import train_test_split\n",
        "x_train,x_test,y_train,y_test=train_test_split(x,y,test_size=0.2)"
      ],
      "metadata": {
        "id": "dELkRECmogBT"
      },
      "execution_count": null,
      "outputs": []
    },
    {
      "cell_type": "code",
      "source": [
        "from sklearn.naive_bayes import GaussianNB\n",
        "model = GaussianNB()\n",
        "model.fit(x_train,y_train)"
      ],
      "metadata": {
        "colab": {
          "base_uri": "https://localhost:8080/"
        },
        "id": "JCZy2DUMopKB",
        "outputId": "9c26e1d5-6d92-48cf-aed5-a4a19a81fcd7"
      },
      "execution_count": null,
      "outputs": [
        {
          "output_type": "execute_result",
          "data": {
            "text/plain": [
              "GaussianNB()"
            ]
          },
          "metadata": {},
          "execution_count": 48
        }
      ]
    },
    {
      "cell_type": "code",
      "source": [
        "predict=model.predict(x_test)\n",
        "predict\n",
        "y_test"
      ],
      "metadata": {
        "colab": {
          "base_uri": "https://localhost:8080/"
        },
        "id": "9ws8oA5qoqx6",
        "outputId": "667b25ad-284f-470b-8f31-54d50b7e9ff5"
      },
      "execution_count": null,
      "outputs": [
        {
          "output_type": "execute_result",
          "data": {
            "text/plain": [
              "12    High\n",
              "21    High\n",
              "0     High\n",
              "9      Low\n",
              "20     Low\n",
              "2      Low\n",
              "Name: classify, dtype: object"
            ]
          },
          "metadata": {},
          "execution_count": 49
        }
      ]
    },
    {
      "cell_type": "code",
      "source": [
        "from sklearn.metrics import accuracy_score\n",
        "accuracy_score(y_test,predict)"
      ],
      "metadata": {
        "colab": {
          "base_uri": "https://localhost:8080/"
        },
        "id": "zR5dq9OSosAT",
        "outputId": "a13f501a-3357-4e53-f9ee-869a6b6e19bb"
      },
      "execution_count": null,
      "outputs": [
        {
          "output_type": "execute_result",
          "data": {
            "text/plain": [
              "0.8333333333333334"
            ]
          },
          "metadata": {},
          "execution_count": 50
        }
      ]
    },
    {
      "cell_type": "code",
      "source": [
        "import time\n",
        "t0 = time.time()\n",
        "model.fit(x_train,y_train)\n",
        "model.score(x_test,y_test)\n",
        "t1 = time.time()\n",
        "print(\"Time taken to train and test the data set is\", t1-t0)"
      ],
      "metadata": {
        "colab": {
          "base_uri": "https://localhost:8080/"
        },
        "id": "w5dRK9AhouOB",
        "outputId": "f0b9581e-ad4d-46f2-f52e-4fd0507a605e"
      },
      "execution_count": null,
      "outputs": [
        {
          "output_type": "stream",
          "name": "stdout",
          "text": [
            "Time taken to train and test the data set is 0.01683330535888672\n"
          ]
        }
      ]
    },
    {
      "cell_type": "code",
      "source": [
        "from sklearn.ensemble import RandomForestClassifier\n",
        "from sklearn.model_selection import train_test_split\n",
        "x_train,x_test,y_train,y_test=train_test_split(x,y,test_size=0.2)"
      ],
      "metadata": {
        "id": "mwwIEP1vA0CX"
      },
      "execution_count": null,
      "outputs": []
    },
    {
      "cell_type": "code",
      "source": [
        "model = RandomForestClassifier()\n",
        "model = model.fit(x_train,y_train)\n",
        "print(\"Training data Set accuracy is =\",model.score(x_train, y_train))\n",
        "print(\"Test data Set Accuracy =\",model.score(x_test,y_test))"
      ],
      "metadata": {
        "colab": {
          "base_uri": "https://localhost:8080/"
        },
        "id": "xyLmUzAxCF_K",
        "outputId": "96ae1e6a-b0de-4efe-c727-60c0c9f254ba"
      },
      "execution_count": null,
      "outputs": [
        {
          "output_type": "stream",
          "name": "stdout",
          "text": [
            "Training data Set accuracy is = 1.0\n",
            "Test data Set Accuracy = 0.8333333333333334\n"
          ]
        }
      ]
    },
    {
      "cell_type": "code",
      "source": [
        "from sklearn.metrics import accuracy_score\n",
        "accuracy_score(y_test,predict)"
      ],
      "metadata": {
        "colab": {
          "base_uri": "https://localhost:8080/"
        },
        "id": "TLIfDRFJYMgd",
        "outputId": "e5ad22d7-0c00-4252-df2a-1f7d52d7f3f3"
      },
      "execution_count": null,
      "outputs": [
        {
          "output_type": "execute_result",
          "data": {
            "text/plain": [
              "0.8333333333333334"
            ]
          },
          "metadata": {},
          "execution_count": 54
        }
      ]
    },
    {
      "cell_type": "code",
      "source": [
        "from sklearn.linear_model import SGDClassifier\n",
        "from sklearn.model_selection import train_test_split\n",
        "x_train,x_test,y_train,y_test=train_test_split(x,y,test_size=0.2)\n",
        "model = SGDClassifier()\n",
        "model = model.fit(x_train,y_train)\n",
        "print(\"Training data Set accuracy is =\",model.score(x_train, y_train))\n",
        "print(\"Test data Set Accuracy =\",model.score(x_test,y_test))"
      ],
      "metadata": {
        "colab": {
          "base_uri": "https://localhost:8080/"
        },
        "id": "qULkPlevCYhV",
        "outputId": "233d9cf2-7aa4-4766-d255-e8518ec39af0"
      },
      "execution_count": null,
      "outputs": [
        {
          "output_type": "stream",
          "name": "stdout",
          "text": [
            "Training data Set accuracy is = 0.5217391304347826\n",
            "Test data Set Accuracy = 0.3333333333333333\n"
          ]
        }
      ]
    },
    {
      "cell_type": "code",
      "source": [
        "from sklearn.linear_model import LogisticRegression\n",
        "x_train,x_test,y_train,y_test=train_test_split(x,y,test_size=0.2)\n",
        "model = LogisticRegression()\n",
        "model = model.fit(x_train,y_train)\n",
        "print(\"Training data Set accuracy is =\",model.score(x_train, y_train))\n",
        "print(\"Test data Set Accuracy =\",model.score(x_test,y_test))"
      ],
      "metadata": {
        "colab": {
          "base_uri": "https://localhost:8080/"
        },
        "id": "7YRDM9eiDLH_",
        "outputId": "933486e7-5052-4de7-f466-ad13bb90564a"
      },
      "execution_count": null,
      "outputs": [
        {
          "output_type": "stream",
          "name": "stdout",
          "text": [
            "Training data Set accuracy is = 0.9130434782608695\n",
            "Test data Set Accuracy = 0.6666666666666666\n"
          ]
        },
        {
          "output_type": "stream",
          "name": "stderr",
          "text": [
            "/usr/local/lib/python3.8/dist-packages/sklearn/linear_model/_logistic.py:814: ConvergenceWarning: lbfgs failed to converge (status=1):\n",
            "STOP: TOTAL NO. of ITERATIONS REACHED LIMIT.\n",
            "\n",
            "Increase the number of iterations (max_iter) or scale the data as shown in:\n",
            "    https://scikit-learn.org/stable/modules/preprocessing.html\n",
            "Please also refer to the documentation for alternative solver options:\n",
            "    https://scikit-learn.org/stable/modules/linear_model.html#logistic-regression\n",
            "  n_iter_i = _check_optimize_result(\n"
          ]
        }
      ]
    },
    {
      "cell_type": "code",
      "source": [
        "df5=df['NSDP']>= 405143\n",
        "df6=df5.replace(to_replace=True,value='1')\n",
        "df7=df6.replace(to_replace=False,value='0')"
      ],
      "metadata": {
        "id": "YFGQMLsGSJHq"
      },
      "execution_count": null,
      "outputs": []
    },
    {
      "cell_type": "code",
      "source": [
        "df['classify']=df7"
      ],
      "metadata": {
        "id": "_phQGTAISe1t"
      },
      "execution_count": null,
      "outputs": []
    },
    {
      "cell_type": "code",
      "source": [
        "x= df.drop('classify',axis=1)\n",
        "y=df['classify']"
      ],
      "metadata": {
        "id": "col3Sf6vSnxF"
      },
      "execution_count": null,
      "outputs": []
    },
    {
      "cell_type": "code",
      "source": [
        "print(x.shape)\n",
        "print(y.shape)"
      ],
      "metadata": {
        "colab": {
          "base_uri": "https://localhost:8080/"
        },
        "id": "4-vX8jMHUbtG",
        "outputId": "1ddac48c-77a7-4210-ad7c-3e334b05fbb7"
      },
      "execution_count": null,
      "outputs": [
        {
          "output_type": "stream",
          "name": "stdout",
          "text": [
            "(29, 11)\n",
            "(29,)\n"
          ]
        }
      ]
    },
    {
      "cell_type": "code",
      "source": [
        "lr = LinearRegression()\n",
        "lr.fit(x, y)\n",
        "pred = lr.predict(x)\n",
        "pred"
      ],
      "metadata": {
        "colab": {
          "base_uri": "https://localhost:8080/"
        },
        "id": "9L0Qti98UhNg",
        "outputId": "a0904887-ef02-4404-f682-ec6b93743a7c"
      },
      "execution_count": null,
      "outputs": [
        {
          "output_type": "execute_result",
          "data": {
            "text/plain": [
              "array([ 9.24661347e-01, -7.47100042e-04, -1.43609524e-01,  6.85984575e-02,\n",
              "        1.25443790e-01,  2.39594099e-01,  9.47238988e-01,  7.38142062e-01,\n",
              "        9.82219265e-02,  2.05824632e-01,  8.90710544e-02,  8.10875963e-01,\n",
              "        5.34233947e-01,  9.59566276e-01,  1.37830604e+00, -2.21371364e-02,\n",
              "       -1.73314328e-01,  5.89367168e-02,  7.16816217e-02, -1.42147326e-01,\n",
              "        5.52201583e-01,  9.24503822e-01,  2.20884128e-02,  1.10026232e+00,\n",
              "        6.04432031e-01, -8.56555821e-03,  9.88200639e-01,  1.76531509e-01,\n",
              "        8.71903737e-01])"
            ]
          },
          "metadata": {},
          "execution_count": 61
        }
      ]
    },
    {
      "cell_type": "code",
      "source": [
        "# Print intercept\n",
        "print('Intercept:', lr.intercept_)"
      ],
      "metadata": {
        "colab": {
          "base_uri": "https://localhost:8080/"
        },
        "id": "kcVUtaEUUkOK",
        "outputId": "cd483740-8104-4ba8-9707-833bc43caee9"
      },
      "execution_count": null,
      "outputs": [
        {
          "output_type": "stream",
          "name": "stdout",
          "text": [
            "Intercept: 0.24771207502498416\n"
          ]
        }
      ]
    },
    {
      "cell_type": "code",
      "source": [
        "reg = lr.fit(x, y)\n",
        "print(\"The Linear regression score on training data is \", round(reg.score(x, y),2))"
      ],
      "metadata": {
        "colab": {
          "base_uri": "https://localhost:8080/"
        },
        "id": "BnzWIJKOUnec",
        "outputId": "73a4dcb5-4116-4752-ff5d-dc59ae7190ba"
      },
      "execution_count": null,
      "outputs": [
        {
          "output_type": "stream",
          "name": "stdout",
          "text": [
            "The Linear regression score on training data is  0.83\n"
          ]
        }
      ]
    },
    {
      "cell_type": "code",
      "source": [
        "df_coeff = pd.DataFrame(lr.coef_, x.columns,columns=['Coefficient'])\n",
        "df_coeff"
      ],
      "metadata": {
        "colab": {
          "base_uri": "https://localhost:8080/",
          "height": 394
        },
        "id": "kOS5XTqJUryr",
        "outputId": "f5782852-d0d4-4fd0-9dad-960a42380a97"
      },
      "execution_count": null,
      "outputs": [
        {
          "output_type": "execute_result",
          "data": {
            "text/plain": [
              "                                         Coefficient\n",
              "State Name                             -1.076937e-02\n",
              "No. OfVillagesWhere SurveyCompleted    -3.203226e-04\n",
              "banks                                   1.817662e-04\n",
              "ATM                                    -8.771579e-05\n",
              "Public Transport                       -3.509688e-05\n",
              "electricity for domestic use (in Hrs)   3.404307e-04\n",
              "Public Distribution System(PDS)         2.764119e-06\n",
              "markets                                -5.528838e-05\n",
              "Middle School                          -3.900875e-05\n",
              "Aanganwadi Centre                       4.351310e-05\n",
              "NSDP                                    6.850492e-07"
            ],
            "text/html": [
              "\n",
              "  <div id=\"df-5d60559a-d6d8-4362-b401-3f2d9f8cb296\">\n",
              "    <div class=\"colab-df-container\">\n",
              "      <div>\n",
              "<style scoped>\n",
              "    .dataframe tbody tr th:only-of-type {\n",
              "        vertical-align: middle;\n",
              "    }\n",
              "\n",
              "    .dataframe tbody tr th {\n",
              "        vertical-align: top;\n",
              "    }\n",
              "\n",
              "    .dataframe thead th {\n",
              "        text-align: right;\n",
              "    }\n",
              "</style>\n",
              "<table border=\"1\" class=\"dataframe\">\n",
              "  <thead>\n",
              "    <tr style=\"text-align: right;\">\n",
              "      <th></th>\n",
              "      <th>Coefficient</th>\n",
              "    </tr>\n",
              "  </thead>\n",
              "  <tbody>\n",
              "    <tr>\n",
              "      <th>State Name</th>\n",
              "      <td>-1.076937e-02</td>\n",
              "    </tr>\n",
              "    <tr>\n",
              "      <th>No. OfVillagesWhere SurveyCompleted</th>\n",
              "      <td>-3.203226e-04</td>\n",
              "    </tr>\n",
              "    <tr>\n",
              "      <th>banks</th>\n",
              "      <td>1.817662e-04</td>\n",
              "    </tr>\n",
              "    <tr>\n",
              "      <th>ATM</th>\n",
              "      <td>-8.771579e-05</td>\n",
              "    </tr>\n",
              "    <tr>\n",
              "      <th>Public Transport</th>\n",
              "      <td>-3.509688e-05</td>\n",
              "    </tr>\n",
              "    <tr>\n",
              "      <th>electricity for domestic use (in Hrs)</th>\n",
              "      <td>3.404307e-04</td>\n",
              "    </tr>\n",
              "    <tr>\n",
              "      <th>Public Distribution System(PDS)</th>\n",
              "      <td>2.764119e-06</td>\n",
              "    </tr>\n",
              "    <tr>\n",
              "      <th>markets</th>\n",
              "      <td>-5.528838e-05</td>\n",
              "    </tr>\n",
              "    <tr>\n",
              "      <th>Middle School</th>\n",
              "      <td>-3.900875e-05</td>\n",
              "    </tr>\n",
              "    <tr>\n",
              "      <th>Aanganwadi Centre</th>\n",
              "      <td>4.351310e-05</td>\n",
              "    </tr>\n",
              "    <tr>\n",
              "      <th>NSDP</th>\n",
              "      <td>6.850492e-07</td>\n",
              "    </tr>\n",
              "  </tbody>\n",
              "</table>\n",
              "</div>\n",
              "      <button class=\"colab-df-convert\" onclick=\"convertToInteractive('df-5d60559a-d6d8-4362-b401-3f2d9f8cb296')\"\n",
              "              title=\"Convert this dataframe to an interactive table.\"\n",
              "              style=\"display:none;\">\n",
              "        \n",
              "  <svg xmlns=\"http://www.w3.org/2000/svg\" height=\"24px\"viewBox=\"0 0 24 24\"\n",
              "       width=\"24px\">\n",
              "    <path d=\"M0 0h24v24H0V0z\" fill=\"none\"/>\n",
              "    <path d=\"M18.56 5.44l.94 2.06.94-2.06 2.06-.94-2.06-.94-.94-2.06-.94 2.06-2.06.94zm-11 1L8.5 8.5l.94-2.06 2.06-.94-2.06-.94L8.5 2.5l-.94 2.06-2.06.94zm10 10l.94 2.06.94-2.06 2.06-.94-2.06-.94-.94-2.06-.94 2.06-2.06.94z\"/><path d=\"M17.41 7.96l-1.37-1.37c-.4-.4-.92-.59-1.43-.59-.52 0-1.04.2-1.43.59L10.3 9.45l-7.72 7.72c-.78.78-.78 2.05 0 2.83L4 21.41c.39.39.9.59 1.41.59.51 0 1.02-.2 1.41-.59l7.78-7.78 2.81-2.81c.8-.78.8-2.07 0-2.86zM5.41 20L4 18.59l7.72-7.72 1.47 1.35L5.41 20z\"/>\n",
              "  </svg>\n",
              "      </button>\n",
              "      \n",
              "  <style>\n",
              "    .colab-df-container {\n",
              "      display:flex;\n",
              "      flex-wrap:wrap;\n",
              "      gap: 12px;\n",
              "    }\n",
              "\n",
              "    .colab-df-convert {\n",
              "      background-color: #E8F0FE;\n",
              "      border: none;\n",
              "      border-radius: 50%;\n",
              "      cursor: pointer;\n",
              "      display: none;\n",
              "      fill: #1967D2;\n",
              "      height: 32px;\n",
              "      padding: 0 0 0 0;\n",
              "      width: 32px;\n",
              "    }\n",
              "\n",
              "    .colab-df-convert:hover {\n",
              "      background-color: #E2EBFA;\n",
              "      box-shadow: 0px 1px 2px rgba(60, 64, 67, 0.3), 0px 1px 3px 1px rgba(60, 64, 67, 0.15);\n",
              "      fill: #174EA6;\n",
              "    }\n",
              "\n",
              "    [theme=dark] .colab-df-convert {\n",
              "      background-color: #3B4455;\n",
              "      fill: #D2E3FC;\n",
              "    }\n",
              "\n",
              "    [theme=dark] .colab-df-convert:hover {\n",
              "      background-color: #434B5C;\n",
              "      box-shadow: 0px 1px 3px 1px rgba(0, 0, 0, 0.15);\n",
              "      filter: drop-shadow(0px 1px 2px rgba(0, 0, 0, 0.3));\n",
              "      fill: #FFFFFF;\n",
              "    }\n",
              "  </style>\n",
              "\n",
              "      <script>\n",
              "        const buttonEl =\n",
              "          document.querySelector('#df-5d60559a-d6d8-4362-b401-3f2d9f8cb296 button.colab-df-convert');\n",
              "        buttonEl.style.display =\n",
              "          google.colab.kernel.accessAllowed ? 'block' : 'none';\n",
              "\n",
              "        async function convertToInteractive(key) {\n",
              "          const element = document.querySelector('#df-5d60559a-d6d8-4362-b401-3f2d9f8cb296');\n",
              "          const dataTable =\n",
              "            await google.colab.kernel.invokeFunction('convertToInteractive',\n",
              "                                                     [key], {});\n",
              "          if (!dataTable) return;\n",
              "\n",
              "          const docLinkHtml = 'Like what you see? Visit the ' +\n",
              "            '<a target=\"_blank\" href=https://colab.research.google.com/notebooks/data_table.ipynb>data table notebook</a>'\n",
              "            + ' to learn more about interactive tables.';\n",
              "          element.innerHTML = '';\n",
              "          dataTable['output_type'] = 'display_data';\n",
              "          await google.colab.output.renderOutput(dataTable, element);\n",
              "          const docLink = document.createElement('div');\n",
              "          docLink.innerHTML = docLinkHtml;\n",
              "          element.appendChild(docLink);\n",
              "        }\n",
              "      </script>\n",
              "    </div>\n",
              "  </div>\n",
              "  "
            ]
          },
          "metadata": {},
          "execution_count": 64
        }
      ]
    },
    {
      "cell_type": "code",
      "source": [
        "print('Mean Absolute Error:', metrics.mean_absolute_error(y, pred))\n",
        "print('Mean Squared Error:', metrics.mean_squared_error(y, pred))\n",
        "print('Root Mean Squared Error:', np.sqrt(metrics.mean_squared_error(y, pred)))\n",
        "print('R2:', np.sqrt(metrics.r2_score(y, pred)))"
      ],
      "metadata": {
        "colab": {
          "base_uri": "https://localhost:8080/"
        },
        "id": "ei79XZhrUuGy",
        "outputId": "f8a3b540-f2b6-4482-88ff-44e60ffdbf92"
      },
      "execution_count": null,
      "outputs": [
        {
          "output_type": "stream",
          "name": "stdout",
          "text": [
            "Mean Absolute Error: 0.15081118357383866\n",
            "Mean Squared Error: 0.04198871825922032\n",
            "Root Mean Squared Error: 0.20491148884145155\n",
            "R2: 0.9093401182758085\n"
          ]
        }
      ]
    },
    {
      "cell_type": "code",
      "source": [
        "train_pred = lr.predict(x)\n",
        "residuals = df['NSDP'] - train_pred\n",
        "residuals.describe()"
      ],
      "metadata": {
        "colab": {
          "base_uri": "https://localhost:8080/"
        },
        "id": "iENSEragUxNt",
        "outputId": "87034706-77f0-429f-f23d-a7cfa2b995b7"
      },
      "execution_count": null,
      "outputs": [
        {
          "output_type": "execute_result",
          "data": {
            "text/plain": [
              "count    2.900000e+01\n",
              "mean     4.051433e+05\n",
              "std      4.190904e+05\n",
              "min      1.411594e+04\n",
              "25%      4.742476e+04\n",
              "50%      3.383391e+05\n",
              "75%      5.588611e+05\n",
              "max      1.728577e+06\n",
              "Name: NSDP, dtype: float64"
            ]
          },
          "metadata": {},
          "execution_count": 66
        }
      ]
    },
    {
      "cell_type": "code",
      "source": [
        "from sklearn.datasets import make_blobs\n",
        "from sklearn.cluster import KMeans\n",
        "from sklearn.metrics import silhouette_samples, silhouette_score"
      ],
      "metadata": {
        "id": "SrUIIdTCbTK1"
      },
      "execution_count": null,
      "outputs": []
    },
    {
      "cell_type": "code",
      "source": [
        "from sklearn.cluster import KMeans\n",
        "\n",
        "wcss=[]\n",
        "for i in range(1,11):\n",
        "    kmeans=KMeans(n_clusters=i, init='k-means++',random_state=0)\n",
        "    kmeans.fit(x)\n",
        "    wcss.append(kmeans.inertia_)\n",
        "\n",
        "plt.plot(range(1,11),wcss)\n",
        "plt.title('The Elbow Method')\n",
        "plt.xlabel('Number of Clusters')\n",
        "plt.ylabel('WCSS')\n",
        "plt.show()"
      ],
      "metadata": {
        "colab": {
          "base_uri": "https://localhost:8080/",
          "height": 295
        },
        "id": "IjTENHrRcQda",
        "outputId": "0045056d-f3df-434b-c379-d669b3e79849"
      },
      "execution_count": null,
      "outputs": [
        {
          "output_type": "display_data",
          "data": {
            "text/plain": [
              "<Figure size 432x288 with 1 Axes>"
            ],
            "image/png": "[encoded data removed]"
          },
          "metadata": {
            "needs_background": "light"
          }
        }
      ]
    },
    {
      "cell_type": "code",
      "source": [
        "clusterer = KMeans(n_clusters=3, random_state=10)\n",
        "cluster_labels = clusterer.fit_predict(x)\n",
        "print(cluster_labels)"
      ],
      "metadata": {
        "colab": {
          "base_uri": "https://localhost:8080/"
        },
        "id": "RtyZLRSVbp60",
        "outputId": "cefd0cdc-0d5f-424b-914e-6d4656243c8f"
      },
      "execution_count": null,
      "outputs": [
        {
          "output_type": "stream",
          "name": "stdout",
          "text": [
            "[1 0 0 1 0 0 2 1 0 0 0 2 1 1 2 0 0 0 0 1 1 1 0 2 1 0 2 0 1]\n"
          ]
        }
      ]
    },
    {
      "cell_type": "code",
      "source": [
        "plt.scatter(lr.predict(x_train), lr.predict(x_train) - y_train, color = \"green\", s = 10,label = 'Train data')\n",
        "plt.scatter(lr.predict(x_test), lr.predict(x_test) - y_test, color = \"blue\", s = 10,label = 'Test data')\n",
        "plt.hlines(y = 0, xmin = 0, xmax = 50, linewidth = 2)\n",
        "plt.show()"
      ],
      "metadata": {
        "colab": {
          "base_uri": "https://localhost:8080/",
          "height": 435
        },
        "id": "MQAlCyEdWps3",
        "outputId": "6aaac7aa-aa13-4c6a-ba67-022860f0fbfe"
      },
      "execution_count": null,
      "outputs": [
        {
          "output_type": "error",
          "ename": "TypeError",
          "evalue": "ignored",
          "traceback": [
            "\u001b[0;31m---------------------------------------------------------------------------\u001b[0m",
            "\u001b[0;31mTypeError\u001b[0m                                 Traceback (most recent call last)",
            "\u001b[0;32m/usr/local/lib/python3.8/dist-packages/pandas/core/ops/array_ops.py\u001b[0m in \u001b[0;36m_na_arithmetic_op\u001b[0;34m(left, right, op, is_cmp)\u001b[0m\n\u001b[1;32m    165\u001b[0m     \u001b[0;32mtry\u001b[0m\u001b[0;34m:\u001b[0m\u001b[0;34m\u001b[0m\u001b[0;34m\u001b[0m\u001b[0m\n\u001b[0;32m--> 166\u001b[0;31m         \u001b[0mresult\u001b[0m \u001b[0;34m=\u001b[0m \u001b[0mfunc\u001b[0m\u001b[0;34m(\u001b[0m\u001b[0mleft\u001b[0m\u001b[0;34m,\u001b[0m \u001b[0mright\u001b[0m\u001b[0;34m)\u001b[0m\u001b[0;34m\u001b[0m\u001b[0;34m\u001b[0m\u001b[0m\n\u001b[0m\u001b[1;32m    167\u001b[0m     \u001b[0;32mexcept\u001b[0m \u001b[0mTypeError\u001b[0m\u001b[0;34m:\u001b[0m\u001b[0;34m\u001b[0m\u001b[0;34m\u001b[0m\u001b[0m\n",
            "\u001b[0;32m/usr/local/lib/python3.8/dist-packages/pandas/core/computation/expressions.py\u001b[0m in \u001b[0;36mevaluate\u001b[0;34m(op, a, b, use_numexpr)\u001b[0m\n\u001b[1;32m    238\u001b[0m             \u001b[0;31m# error: \"None\" not callable\u001b[0m\u001b[0;34m\u001b[0m\u001b[0;34m\u001b[0m\u001b[0;34m\u001b[0m\u001b[0m\n\u001b[0;32m--> 239\u001b[0;31m             \u001b[0;32mreturn\u001b[0m \u001b[0m_evaluate\u001b[0m\u001b[0;34m(\u001b[0m\u001b[0mop\u001b[0m\u001b[0;34m,\u001b[0m \u001b[0mop_str\u001b[0m\u001b[0;34m,\u001b[0m \u001b[0ma\u001b[0m\u001b[0;34m,\u001b[0m \u001b[0mb\u001b[0m\u001b[0;34m)\u001b[0m  \u001b[0;31m# type: ignore[misc]\u001b[0m\u001b[0;34m\u001b[0m\u001b[0;34m\u001b[0m\u001b[0m\n\u001b[0m\u001b[1;32m    240\u001b[0m     \u001b[0;32mreturn\u001b[0m \u001b[0m_evaluate_standard\u001b[0m\u001b[0;34m(\u001b[0m\u001b[0mop\u001b[0m\u001b[0;34m,\u001b[0m \u001b[0mop_str\u001b[0m\u001b[0;34m,\u001b[0m \u001b[0ma\u001b[0m\u001b[0;34m,\u001b[0m \u001b[0mb\u001b[0m\u001b[0;34m)\u001b[0m\u001b[0;34m\u001b[0m\u001b[0;34m\u001b[0m\u001b[0m\n",
            "\u001b[0;32m/usr/local/lib/python3.8/dist-packages/pandas/core/computation/expressions.py\u001b[0m in \u001b[0;36m_evaluate_numexpr\u001b[0;34m(op, op_str, a, b)\u001b[0m\n\u001b[1;32m    127\u001b[0m     \u001b[0;32mif\u001b[0m \u001b[0mresult\u001b[0m \u001b[0;32mis\u001b[0m \u001b[0;32mNone\u001b[0m\u001b[0;34m:\u001b[0m\u001b[0;34m\u001b[0m\u001b[0;34m\u001b[0m\u001b[0m\n\u001b[0;32m--> 128\u001b[0;31m         \u001b[0mresult\u001b[0m \u001b[0;34m=\u001b[0m \u001b[0m_evaluate_standard\u001b[0m\u001b[0;34m(\u001b[0m\u001b[0mop\u001b[0m\u001b[0;34m,\u001b[0m \u001b[0mop_str\u001b[0m\u001b[0;34m,\u001b[0m \u001b[0ma\u001b[0m\u001b[0;34m,\u001b[0m \u001b[0mb\u001b[0m\u001b[0;34m)\u001b[0m\u001b[0;34m\u001b[0m\u001b[0;34m\u001b[0m\u001b[0m\n\u001b[0m\u001b[1;32m    129\u001b[0m \u001b[0;34m\u001b[0m\u001b[0m\n",
            "\u001b[0;32m/usr/local/lib/python3.8/dist-packages/pandas/core/computation/expressions.py\u001b[0m in \u001b[0;36m_evaluate_standard\u001b[0;34m(op, op_str, a, b)\u001b[0m\n\u001b[1;32m     68\u001b[0m         \u001b[0m_store_test_result\u001b[0m\u001b[0;34m(\u001b[0m\u001b[0;32mFalse\u001b[0m\u001b[0;34m)\u001b[0m\u001b[0;34m\u001b[0m\u001b[0;34m\u001b[0m\u001b[0m\n\u001b[0;32m---> 69\u001b[0;31m     \u001b[0;32mreturn\u001b[0m \u001b[0mop\u001b[0m\u001b[0;34m(\u001b[0m\u001b[0ma\u001b[0m\u001b[0;34m,\u001b[0m \u001b[0mb\u001b[0m\u001b[0;34m)\u001b[0m\u001b[0;34m\u001b[0m\u001b[0;34m\u001b[0m\u001b[0m\n\u001b[0m\u001b[1;32m     70\u001b[0m \u001b[0;34m\u001b[0m\u001b[0m\n",
            "\u001b[0;32m/usr/local/lib/python3.8/dist-packages/pandas/core/roperator.py\u001b[0m in \u001b[0;36mrsub\u001b[0;34m(left, right)\u001b[0m\n\u001b[1;32m     12\u001b[0m \u001b[0;32mdef\u001b[0m \u001b[0mrsub\u001b[0m\u001b[0;34m(\u001b[0m\u001b[0mleft\u001b[0m\u001b[0;34m,\u001b[0m \u001b[0mright\u001b[0m\u001b[0;34m)\u001b[0m\u001b[0;34m:\u001b[0m\u001b[0;34m\u001b[0m\u001b[0;34m\u001b[0m\u001b[0m\n\u001b[0;32m---> 13\u001b[0;31m     \u001b[0;32mreturn\u001b[0m \u001b[0mright\u001b[0m \u001b[0;34m-\u001b[0m \u001b[0mleft\u001b[0m\u001b[0;34m\u001b[0m\u001b[0;34m\u001b[0m\u001b[0m\n\u001b[0m\u001b[1;32m     14\u001b[0m \u001b[0;34m\u001b[0m\u001b[0m\n",
            "\u001b[0;31mTypeError\u001b[0m: unsupported operand type(s) for -: 'float' and 'str'",
            "\nDuring handling of the above exception, another exception occurred:\n",
            "\u001b[0;31mTypeError\u001b[0m                                 Traceback (most recent call last)",
            "\u001b[0;32m<ipython-input-70-90ec9196e104>\u001b[0m in \u001b[0;36m<module>\u001b[0;34m\u001b[0m\n\u001b[0;32m----> 1\u001b[0;31m \u001b[0mplt\u001b[0m\u001b[0;34m.\u001b[0m\u001b[0mscatter\u001b[0m\u001b[0;34m(\u001b[0m\u001b[0mlr\u001b[0m\u001b[0;34m.\u001b[0m\u001b[0mpredict\u001b[0m\u001b[0;34m(\u001b[0m\u001b[0mx_train\u001b[0m\u001b[0;34m)\u001b[0m\u001b[0;34m,\u001b[0m \u001b[0mlr\u001b[0m\u001b[0;34m.\u001b[0m\u001b[0mpredict\u001b[0m\u001b[0;34m(\u001b[0m\u001b[0mx_train\u001b[0m\u001b[0;34m)\u001b[0m \u001b[0;34m-\u001b[0m \u001b[0my_train\u001b[0m\u001b[0;34m,\u001b[0m \u001b[0mcolor\u001b[0m \u001b[0;34m=\u001b[0m \u001b[0;34m\"green\"\u001b[0m\u001b[0;34m,\u001b[0m \u001b[0ms\u001b[0m \u001b[0;34m=\u001b[0m \u001b[0;36m10\u001b[0m\u001b[0;34m,\u001b[0m\u001b[0mlabel\u001b[0m \u001b[0;34m=\u001b[0m \u001b[0;34m'Train data'\u001b[0m\u001b[0;34m)\u001b[0m\u001b[0;34m\u001b[0m\u001b[0;34m\u001b[0m\u001b[0m\n\u001b[0m\u001b[1;32m      2\u001b[0m \u001b[0mplt\u001b[0m\u001b[0;34m.\u001b[0m\u001b[0mscatter\u001b[0m\u001b[0;34m(\u001b[0m\u001b[0mlr\u001b[0m\u001b[0;34m.\u001b[0m\u001b[0mpredict\u001b[0m\u001b[0;34m(\u001b[0m\u001b[0mx_test\u001b[0m\u001b[0;34m)\u001b[0m\u001b[0;34m,\u001b[0m \u001b[0mlr\u001b[0m\u001b[0;34m.\u001b[0m\u001b[0mpredict\u001b[0m\u001b[0;34m(\u001b[0m\u001b[0mx_test\u001b[0m\u001b[0;34m)\u001b[0m \u001b[0;34m-\u001b[0m \u001b[0my_test\u001b[0m\u001b[0;34m,\u001b[0m \u001b[0mcolor\u001b[0m \u001b[0;34m=\u001b[0m \u001b[0;34m\"blue\"\u001b[0m\u001b[0;34m,\u001b[0m \u001b[0ms\u001b[0m \u001b[0;34m=\u001b[0m \u001b[0;36m10\u001b[0m\u001b[0;34m,\u001b[0m\u001b[0mlabel\u001b[0m \u001b[0;34m=\u001b[0m \u001b[0;34m'Test data'\u001b[0m\u001b[0;34m)\u001b[0m\u001b[0;34m\u001b[0m\u001b[0;34m\u001b[0m\u001b[0m\n\u001b[1;32m      3\u001b[0m \u001b[0mplt\u001b[0m\u001b[0;34m.\u001b[0m\u001b[0mhlines\u001b[0m\u001b[0;34m(\u001b[0m\u001b[0my\u001b[0m \u001b[0;34m=\u001b[0m \u001b[0;36m0\u001b[0m\u001b[0;34m,\u001b[0m \u001b[0mxmin\u001b[0m \u001b[0;34m=\u001b[0m \u001b[0;36m0\u001b[0m\u001b[0;34m,\u001b[0m \u001b[0mxmax\u001b[0m \u001b[0;34m=\u001b[0m \u001b[0;36m50\u001b[0m\u001b[0;34m,\u001b[0m \u001b[0mlinewidth\u001b[0m \u001b[0;34m=\u001b[0m \u001b[0;36m2\u001b[0m\u001b[0;34m)\u001b[0m\u001b[0;34m\u001b[0m\u001b[0;34m\u001b[0m\u001b[0m\n\u001b[1;32m      4\u001b[0m \u001b[0mplt\u001b[0m\u001b[0;34m.\u001b[0m\u001b[0mshow\u001b[0m\u001b[0;34m(\u001b[0m\u001b[0;34m)\u001b[0m\u001b[0;34m\u001b[0m\u001b[0;34m\u001b[0m\u001b[0m\n",
            "\u001b[0;32m/usr/local/lib/python3.8/dist-packages/pandas/core/generic.py\u001b[0m in \u001b[0;36m__array_ufunc__\u001b[0;34m(self, ufunc, method, *inputs, **kwargs)\u001b[0m\n\u001b[1;32m   2030\u001b[0m         \u001b[0mself\u001b[0m\u001b[0;34m,\u001b[0m \u001b[0mufunc\u001b[0m\u001b[0;34m:\u001b[0m \u001b[0mnp\u001b[0m\u001b[0;34m.\u001b[0m\u001b[0mufunc\u001b[0m\u001b[0;34m,\u001b[0m \u001b[0mmethod\u001b[0m\u001b[0;34m:\u001b[0m \u001b[0mstr\u001b[0m\u001b[0;34m,\u001b[0m \u001b[0;34m*\u001b[0m\u001b[0minputs\u001b[0m\u001b[0;34m:\u001b[0m \u001b[0mAny\u001b[0m\u001b[0;34m,\u001b[0m \u001b[0;34m**\u001b[0m\u001b[0mkwargs\u001b[0m\u001b[0;34m:\u001b[0m \u001b[0mAny\u001b[0m\u001b[0;34m\u001b[0m\u001b[0;34m\u001b[0m\u001b[0m\n\u001b[1;32m   2031\u001b[0m     ):\n\u001b[0;32m-> 2032\u001b[0;31m         \u001b[0;32mreturn\u001b[0m \u001b[0marraylike\u001b[0m\u001b[0;34m.\u001b[0m\u001b[0marray_ufunc\u001b[0m\u001b[0;34m(\u001b[0m\u001b[0mself\u001b[0m\u001b[0;34m,\u001b[0m \u001b[0mufunc\u001b[0m\u001b[0;34m,\u001b[0m \u001b[0mmethod\u001b[0m\u001b[0;34m,\u001b[0m \u001b[0;34m*\u001b[0m\u001b[0minputs\u001b[0m\u001b[0;34m,\u001b[0m \u001b[0;34m**\u001b[0m\u001b[0mkwargs\u001b[0m\u001b[0;34m)\u001b[0m\u001b[0;34m\u001b[0m\u001b[0;34m\u001b[0m\u001b[0m\n\u001b[0m\u001b[1;32m   2033\u001b[0m \u001b[0;34m\u001b[0m\u001b[0m\n\u001b[1;32m   2034\u001b[0m     \u001b[0;31m# ideally we would define this to avoid the getattr checks, but\u001b[0m\u001b[0;34m\u001b[0m\u001b[0;34m\u001b[0m\u001b[0;34m\u001b[0m\u001b[0m\n",
            "\u001b[0;32m/usr/local/lib/python3.8/dist-packages/pandas/core/arraylike.py\u001b[0m in \u001b[0;36marray_ufunc\u001b[0;34m(self, ufunc, method, *inputs, **kwargs)\u001b[0m\n\u001b[1;32m    251\u001b[0m \u001b[0;34m\u001b[0m\u001b[0m\n\u001b[1;32m    252\u001b[0m     \u001b[0;31m# for binary ops, use our custom dunder methods\u001b[0m\u001b[0;34m\u001b[0m\u001b[0;34m\u001b[0m\u001b[0;34m\u001b[0m\u001b[0m\n\u001b[0;32m--> 253\u001b[0;31m     \u001b[0mresult\u001b[0m \u001b[0;34m=\u001b[0m \u001b[0mmaybe_dispatch_ufunc_to_dunder_op\u001b[0m\u001b[0;34m(\u001b[0m\u001b[0mself\u001b[0m\u001b[0;34m,\u001b[0m \u001b[0mufunc\u001b[0m\u001b[0;34m,\u001b[0m \u001b[0mmethod\u001b[0m\u001b[0;34m,\u001b[0m \u001b[0;34m*\u001b[0m\u001b[0minputs\u001b[0m\u001b[0;34m,\u001b[0m \u001b[0;34m**\u001b[0m\u001b[0mkwargs\u001b[0m\u001b[0;34m)\u001b[0m\u001b[0;34m\u001b[0m\u001b[0;34m\u001b[0m\u001b[0m\n\u001b[0m\u001b[1;32m    254\u001b[0m     \u001b[0;32mif\u001b[0m \u001b[0mresult\u001b[0m \u001b[0;32mis\u001b[0m \u001b[0;32mnot\u001b[0m \u001b[0mNotImplemented\u001b[0m\u001b[0;34m:\u001b[0m\u001b[0;34m\u001b[0m\u001b[0;34m\u001b[0m\u001b[0m\n\u001b[1;32m    255\u001b[0m         \u001b[0;32mreturn\u001b[0m \u001b[0mresult\u001b[0m\u001b[0;34m\u001b[0m\u001b[0;34m\u001b[0m\u001b[0m\n",
            "\u001b[0;32m/usr/local/lib/python3.8/dist-packages/pandas/_libs/ops_dispatch.pyx\u001b[0m in \u001b[0;36mpandas._libs.ops_dispatch.maybe_dispatch_ufunc_to_dunder_op\u001b[0;34m()\u001b[0m\n",
            "\u001b[0;32m/usr/local/lib/python3.8/dist-packages/pandas/core/ops/common.py\u001b[0m in \u001b[0;36mnew_method\u001b[0;34m(self, other)\u001b[0m\n\u001b[1;32m     67\u001b[0m         \u001b[0mother\u001b[0m \u001b[0;34m=\u001b[0m \u001b[0mitem_from_zerodim\u001b[0m\u001b[0;34m(\u001b[0m\u001b[0mother\u001b[0m\u001b[0;34m)\u001b[0m\u001b[0;34m\u001b[0m\u001b[0;34m\u001b[0m\u001b[0m\n\u001b[1;32m     68\u001b[0m \u001b[0;34m\u001b[0m\u001b[0m\n\u001b[0;32m---> 69\u001b[0;31m         \u001b[0;32mreturn\u001b[0m \u001b[0mmethod\u001b[0m\u001b[0;34m(\u001b[0m\u001b[0mself\u001b[0m\u001b[0;34m,\u001b[0m \u001b[0mother\u001b[0m\u001b[0;34m)\u001b[0m\u001b[0;34m\u001b[0m\u001b[0;34m\u001b[0m\u001b[0m\n\u001b[0m\u001b[1;32m     70\u001b[0m \u001b[0;34m\u001b[0m\u001b[0m\n\u001b[1;32m     71\u001b[0m     \u001b[0;32mreturn\u001b[0m \u001b[0mnew_method\u001b[0m\u001b[0;34m\u001b[0m\u001b[0;34m\u001b[0m\u001b[0m\n",
            "\u001b[0;32m/usr/local/lib/python3.8/dist-packages/pandas/core/arraylike.py\u001b[0m in \u001b[0;36m__rsub__\u001b[0;34m(self, other)\u001b[0m\n\u001b[1;32m    102\u001b[0m     \u001b[0;34m@\u001b[0m\u001b[0munpack_zerodim_and_defer\u001b[0m\u001b[0;34m(\u001b[0m\u001b[0;34m\"__rsub__\"\u001b[0m\u001b[0;34m)\u001b[0m\u001b[0;34m\u001b[0m\u001b[0;34m\u001b[0m\u001b[0m\n\u001b[1;32m    103\u001b[0m     \u001b[0;32mdef\u001b[0m \u001b[0m__rsub__\u001b[0m\u001b[0;34m(\u001b[0m\u001b[0mself\u001b[0m\u001b[0;34m,\u001b[0m \u001b[0mother\u001b[0m\u001b[0;34m)\u001b[0m\u001b[0;34m:\u001b[0m\u001b[0;34m\u001b[0m\u001b[0;34m\u001b[0m\u001b[0m\n\u001b[0;32m--> 104\u001b[0;31m         \u001b[0;32mreturn\u001b[0m \u001b[0mself\u001b[0m\u001b[0;34m.\u001b[0m\u001b[0m_arith_method\u001b[0m\u001b[0;34m(\u001b[0m\u001b[0mother\u001b[0m\u001b[0;34m,\u001b[0m \u001b[0mroperator\u001b[0m\u001b[0;34m.\u001b[0m\u001b[0mrsub\u001b[0m\u001b[0;34m)\u001b[0m\u001b[0;34m\u001b[0m\u001b[0;34m\u001b[0m\u001b[0m\n\u001b[0m\u001b[1;32m    105\u001b[0m \u001b[0;34m\u001b[0m\u001b[0m\n\u001b[1;32m    106\u001b[0m     \u001b[0;34m@\u001b[0m\u001b[0munpack_zerodim_and_defer\u001b[0m\u001b[0;34m(\u001b[0m\u001b[0;34m\"__mul__\"\u001b[0m\u001b[0;34m)\u001b[0m\u001b[0;34m\u001b[0m\u001b[0;34m\u001b[0m\u001b[0m\n",
            "\u001b[0;32m/usr/local/lib/python3.8/dist-packages/pandas/core/series.py\u001b[0m in \u001b[0;36m_arith_method\u001b[0;34m(self, other, op)\u001b[0m\n\u001b[1;32m   5524\u001b[0m \u001b[0;34m\u001b[0m\u001b[0m\n\u001b[1;32m   5525\u001b[0m         \u001b[0;32mwith\u001b[0m \u001b[0mnp\u001b[0m\u001b[0;34m.\u001b[0m\u001b[0merrstate\u001b[0m\u001b[0;34m(\u001b[0m\u001b[0mall\u001b[0m\u001b[0;34m=\u001b[0m\u001b[0;34m\"ignore\"\u001b[0m\u001b[0;34m)\u001b[0m\u001b[0;34m:\u001b[0m\u001b[0;34m\u001b[0m\u001b[0;34m\u001b[0m\u001b[0m\n\u001b[0;32m-> 5526\u001b[0;31m             \u001b[0mresult\u001b[0m \u001b[0;34m=\u001b[0m \u001b[0mops\u001b[0m\u001b[0;34m.\u001b[0m\u001b[0marithmetic_op\u001b[0m\u001b[0;34m(\u001b[0m\u001b[0mlvalues\u001b[0m\u001b[0;34m,\u001b[0m \u001b[0mrvalues\u001b[0m\u001b[0;34m,\u001b[0m \u001b[0mop\u001b[0m\u001b[0;34m)\u001b[0m\u001b[0;34m\u001b[0m\u001b[0;34m\u001b[0m\u001b[0m\n\u001b[0m\u001b[1;32m   5527\u001b[0m \u001b[0;34m\u001b[0m\u001b[0m\n\u001b[1;32m   5528\u001b[0m         \u001b[0;32mreturn\u001b[0m \u001b[0mself\u001b[0m\u001b[0;34m.\u001b[0m\u001b[0m_construct_result\u001b[0m\u001b[0;34m(\u001b[0m\u001b[0mresult\u001b[0m\u001b[0;34m,\u001b[0m \u001b[0mname\u001b[0m\u001b[0;34m=\u001b[0m\u001b[0mres_name\u001b[0m\u001b[0;34m)\u001b[0m\u001b[0;34m\u001b[0m\u001b[0;34m\u001b[0m\u001b[0m\n",
            "\u001b[0;32m/usr/local/lib/python3.8/dist-packages/pandas/core/ops/array_ops.py\u001b[0m in \u001b[0;36marithmetic_op\u001b[0;34m(left, right, op)\u001b[0m\n\u001b[1;32m    222\u001b[0m         \u001b[0m_bool_arith_check\u001b[0m\u001b[0;34m(\u001b[0m\u001b[0mop\u001b[0m\u001b[0;34m,\u001b[0m \u001b[0mleft\u001b[0m\u001b[0;34m,\u001b[0m \u001b[0mright\u001b[0m\u001b[0;34m)\u001b[0m\u001b[0;34m\u001b[0m\u001b[0;34m\u001b[0m\u001b[0m\n\u001b[1;32m    223\u001b[0m \u001b[0;34m\u001b[0m\u001b[0m\n\u001b[0;32m--> 224\u001b[0;31m         \u001b[0mres_values\u001b[0m \u001b[0;34m=\u001b[0m \u001b[0m_na_arithmetic_op\u001b[0m\u001b[0;34m(\u001b[0m\u001b[0mleft\u001b[0m\u001b[0;34m,\u001b[0m \u001b[0mright\u001b[0m\u001b[0;34m,\u001b[0m \u001b[0mop\u001b[0m\u001b[0;34m)\u001b[0m\u001b[0;34m\u001b[0m\u001b[0;34m\u001b[0m\u001b[0m\n\u001b[0m\u001b[1;32m    225\u001b[0m \u001b[0;34m\u001b[0m\u001b[0m\n\u001b[1;32m    226\u001b[0m     \u001b[0;32mreturn\u001b[0m \u001b[0mres_values\u001b[0m\u001b[0;34m\u001b[0m\u001b[0;34m\u001b[0m\u001b[0m\n",
            "\u001b[0;32m/usr/local/lib/python3.8/dist-packages/pandas/core/ops/array_ops.py\u001b[0m in \u001b[0;36m_na_arithmetic_op\u001b[0;34m(left, right, op, is_cmp)\u001b[0m\n\u001b[1;32m    171\u001b[0m             \u001b[0;31m# Don't do this for comparisons, as that will handle complex numbers\u001b[0m\u001b[0;34m\u001b[0m\u001b[0;34m\u001b[0m\u001b[0;34m\u001b[0m\u001b[0m\n\u001b[1;32m    172\u001b[0m             \u001b[0;31m#  incorrectly, see GH#32047\u001b[0m\u001b[0;34m\u001b[0m\u001b[0;34m\u001b[0m\u001b[0;34m\u001b[0m\u001b[0m\n\u001b[0;32m--> 173\u001b[0;31m             \u001b[0mresult\u001b[0m \u001b[0;34m=\u001b[0m \u001b[0m_masked_arith_op\u001b[0m\u001b[0;34m(\u001b[0m\u001b[0mleft\u001b[0m\u001b[0;34m,\u001b[0m \u001b[0mright\u001b[0m\u001b[0;34m,\u001b[0m \u001b[0mop\u001b[0m\u001b[0;34m)\u001b[0m\u001b[0;34m\u001b[0m\u001b[0;34m\u001b[0m\u001b[0m\n\u001b[0m\u001b[1;32m    174\u001b[0m         \u001b[0;32melse\u001b[0m\u001b[0;34m:\u001b[0m\u001b[0;34m\u001b[0m\u001b[0;34m\u001b[0m\u001b[0m\n\u001b[1;32m    175\u001b[0m             \u001b[0;32mraise\u001b[0m\u001b[0;34m\u001b[0m\u001b[0;34m\u001b[0m\u001b[0m\n",
            "\u001b[0;32m/usr/local/lib/python3.8/dist-packages/pandas/core/ops/array_ops.py\u001b[0m in \u001b[0;36m_masked_arith_op\u001b[0;34m(x, y, op)\u001b[0m\n\u001b[1;32m    110\u001b[0m         \u001b[0;31m# See GH#5284, GH#5035, GH#19448 for historical reference\u001b[0m\u001b[0;34m\u001b[0m\u001b[0;34m\u001b[0m\u001b[0;34m\u001b[0m\u001b[0m\n\u001b[1;32m    111\u001b[0m         \u001b[0;32mif\u001b[0m \u001b[0mmask\u001b[0m\u001b[0;34m.\u001b[0m\u001b[0many\u001b[0m\u001b[0;34m(\u001b[0m\u001b[0;34m)\u001b[0m\u001b[0;34m:\u001b[0m\u001b[0;34m\u001b[0m\u001b[0;34m\u001b[0m\u001b[0m\n\u001b[0;32m--> 112\u001b[0;31m             \u001b[0mresult\u001b[0m\u001b[0;34m[\u001b[0m\u001b[0mmask\u001b[0m\u001b[0;34m]\u001b[0m \u001b[0;34m=\u001b[0m \u001b[0mop\u001b[0m\u001b[0;34m(\u001b[0m\u001b[0mxrav\u001b[0m\u001b[0;34m[\u001b[0m\u001b[0mmask\u001b[0m\u001b[0;34m]\u001b[0m\u001b[0;34m,\u001b[0m \u001b[0myrav\u001b[0m\u001b[0;34m[\u001b[0m\u001b[0mmask\u001b[0m\u001b[0;34m]\u001b[0m\u001b[0;34m)\u001b[0m\u001b[0;34m\u001b[0m\u001b[0;34m\u001b[0m\u001b[0m\n\u001b[0m\u001b[1;32m    113\u001b[0m \u001b[0;34m\u001b[0m\u001b[0m\n\u001b[1;32m    114\u001b[0m     \u001b[0;32melse\u001b[0m\u001b[0;34m:\u001b[0m\u001b[0;34m\u001b[0m\u001b[0;34m\u001b[0m\u001b[0m\n",
            "\u001b[0;32m/usr/local/lib/python3.8/dist-packages/pandas/core/roperator.py\u001b[0m in \u001b[0;36mrsub\u001b[0;34m(left, right)\u001b[0m\n\u001b[1;32m     11\u001b[0m \u001b[0;34m\u001b[0m\u001b[0m\n\u001b[1;32m     12\u001b[0m \u001b[0;32mdef\u001b[0m \u001b[0mrsub\u001b[0m\u001b[0;34m(\u001b[0m\u001b[0mleft\u001b[0m\u001b[0;34m,\u001b[0m \u001b[0mright\u001b[0m\u001b[0;34m)\u001b[0m\u001b[0;34m:\u001b[0m\u001b[0;34m\u001b[0m\u001b[0;34m\u001b[0m\u001b[0m\n\u001b[0;32m---> 13\u001b[0;31m     \u001b[0;32mreturn\u001b[0m \u001b[0mright\u001b[0m \u001b[0;34m-\u001b[0m \u001b[0mleft\u001b[0m\u001b[0;34m\u001b[0m\u001b[0;34m\u001b[0m\u001b[0m\n\u001b[0m\u001b[1;32m     14\u001b[0m \u001b[0;34m\u001b[0m\u001b[0m\n\u001b[1;32m     15\u001b[0m \u001b[0;34m\u001b[0m\u001b[0m\n",
            "\u001b[0;31mTypeError\u001b[0m: unsupported operand type(s) for -: 'float' and 'str'"
          ]
        }
      ]
    },
    {
      "cell_type": "code",
      "source": [
        "df.plot(kind=\"scatter\", x=\"NSDP\", y=\"ATM\", figsize=(9,9), color=\"black\", xlim = (0,7))\n",
        "plt.plot(x, train_pred, color=\"blue\");"
      ],
      "metadata": {
        "id": "5etg_vowU3rs"
      },
      "execution_count": null,
      "outputs": []
    },
    {
      "cell_type": "code",
      "source": [
        "from sklearn import datasets\n",
        "from sklearn.tree import DecisionTreeClassifier\n",
        "from sklearn.model_selection import KFold, cross_val_score\n",
        "\n",
        "X, y = datasets.load_iris(return_X_y=True)\n",
        "\n",
        "clf = DecisionTreeClassifier(random_state=42)\n",
        "\n",
        "k_folds = KFold(n_splits = 5)\n",
        "\n",
        "scores = cross_val_score(clf, X, y, cv = k_folds)\n",
        "\n",
        "print(\"Cross Validation Scores: \", scores)\n",
        "print(\"Average CV Score: \", scores.mean())\n",
        "print(\"Number of CV Scores used in Average: \", len(scores))"
      ],
      "metadata": {
        "id": "gLWpslOJ3soL"
      },
      "execution_count": null,
      "outputs": []
    },
    {
      "cell_type": "code",
      "source": [
        "from sklearn.ensemble import RandomForestClassifier\n",
        "from sklearn.model_selection import train_test_split\n",
        "x_train,x_test,y_train,y_test=train_test_split(x,y,test_size=0.2)"
      ],
      "metadata": {
        "id": "ZQkwKagBAAKu"
      },
      "execution_count": null,
      "outputs": []
    },
    {
      "cell_type": "markdown",
      "source": [
        "# **MULTIPLE LINEAR REGRESSION**"
      ],
      "metadata": {
        "id": "wXWM5v10uoQy"
      }
    },
    {
      "cell_type": "code",
      "source": [
        "#Multiple linear regression\n",
        "import pandas as pd\n",
        "from sklearn import linear_model\n",
        "\n",
        "df = pd.read_excel(\"/content/Output.xlsx\")\n",
        "mean=df['NSDP'].mean()\n",
        "print(mean)\n",
        "X = df[['banks', 'ATM']]\n",
        "y = df['NSDP']\n",
        "\n",
        "regr = linear_model.LinearRegression()\n",
        "regr.fit(X, y)\n",
        "\n",
        "#predict the NSDP of a State where the no.of banks and ATM\n",
        "predictedNSDP = regr.predict([[3078,2220\t]])\n",
        "\n",
        "print(predictedNSDP)\n",
        "if(predictedNSDP>mean):\n",
        "  print(\"high NSDP more economic\")\n",
        "else:\n",
        "  print(\"low NSDP less economic\")"
      ],
      "metadata": {
        "colab": {
          "base_uri": "https://localhost:8080/"
        },
        "id": "EkcioE6PWmg4",
        "outputId": "cba0b481-c33c-4c90-9a0e-d881c776ea2b"
      },
      "execution_count": null,
      "outputs": [
        {
          "output_type": "stream",
          "name": "stdout",
          "text": [
            "405143.6896551724\n",
            "[569540.12823458]\n",
            "high NSDP more economic\n"
          ]
        },
        {
          "output_type": "stream",
          "name": "stderr",
          "text": [
            "/usr/local/lib/python3.8/dist-packages/sklearn/base.py:450: UserWarning: X does not have valid feature names, but LinearRegression was fitted with feature names\n",
            "  warnings.warn(\n"
          ]
        }
      ]
    },
    {
      "cell_type": "code",
      "source": [
        "sns.boxplot(x=\"Year\", y=\"Price\", data=train_data)"
      ],
      "metadata": {
        "id": "iWWW8eDFXyEv",
        "colab": {
          "base_uri": "https://localhost:8080/",
          "height": 168
        },
        "outputId": "4d3f8ee9-cdc1-4087-b7e0-d2c64b9245b4"
      },
      "execution_count": null,
      "outputs": [
        {
          "output_type": "error",
          "ename": "NameError",
          "evalue": "ignored",
          "traceback": [
            "\u001b[0;31m---------------------------------------------------------------------------\u001b[0m",
            "\u001b[0;31mNameError\u001b[0m                                 Traceback (most recent call last)",
            "\u001b[0;32m<ipython-input-1-5671d54145fc>\u001b[0m in \u001b[0;36m<module>\u001b[0;34m\u001b[0m\n\u001b[0;32m----> 1\u001b[0;31m \u001b[0msns\u001b[0m\u001b[0;34m.\u001b[0m\u001b[0mboxplot\u001b[0m\u001b[0;34m(\u001b[0m\u001b[0mx\u001b[0m\u001b[0;34m=\u001b[0m\u001b[0;34m\"Year\"\u001b[0m\u001b[0;34m,\u001b[0m \u001b[0my\u001b[0m\u001b[0;34m=\u001b[0m\u001b[0;34m\"Price\"\u001b[0m\u001b[0;34m,\u001b[0m \u001b[0mdata\u001b[0m\u001b[0;34m=\u001b[0m\u001b[0mtrain_data\u001b[0m\u001b[0;34m)\u001b[0m\u001b[0;34m\u001b[0m\u001b[0;34m\u001b[0m\u001b[0m\n\u001b[0m",
            "\u001b[0;31mNameError\u001b[0m: name 'sns' is not defined"
          ]
        }
      ]
    }
  ]
}